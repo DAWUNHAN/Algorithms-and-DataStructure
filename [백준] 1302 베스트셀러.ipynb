{
 "cells": [
  {
   "cell_type": "markdown",
   "metadata": {},
   "source": [
    "- 문자열을 출력하는 문제와 동일\n",
    "- 등장 횟수를 계산할 때는 dictionary를 이용하면 효과적"
   ]
  },
  {
   "cell_type": "code",
   "execution_count": 4,
   "metadata": {},
   "outputs": [
    {
     "name": "stdout",
     "output_type": "stream",
     "text": [
      "5\n",
      "kim\n",
      "kim\n",
      "han\n",
      "kim\n",
      "han\n",
      "kim\n"
     ]
    }
   ],
   "source": [
    "n = int(input())\n",
    "\n",
    "books = {}\n",
    "\n",
    "for _ in range(n):\n",
    "    book = input()\n",
    "    if book not in books:\n",
    "        books[book] = 1\n",
    "    else:\n",
    "        books[book] += 1\n",
    "\n",
    "target = max(books.values())\n",
    "array = []\n",
    "\n",
    "for book, number in books.items():\n",
    "    if number == target:\n",
    "        array.append(book)\n",
    "        \n",
    "print(sorted(array)[0])"
   ]
  }
 ],
 "metadata": {
  "kernelspec": {
   "display_name": "Python 3",
   "language": "python",
   "name": "python3"
  },
  "language_info": {
   "codemirror_mode": {
    "name": "ipython",
    "version": 3
   },
   "file_extension": ".py",
   "mimetype": "text/x-python",
   "name": "python",
   "nbconvert_exporter": "python",
   "pygments_lexer": "ipython3",
   "version": "3.8.5"
  },
  "toc": {
   "base_numbering": 1,
   "nav_menu": {},
   "number_sections": true,
   "sideBar": true,
   "skip_h1_title": false,
   "title_cell": "Table of Contents",
   "title_sidebar": "Contents",
   "toc_cell": false,
   "toc_position": {},
   "toc_section_display": true,
   "toc_window_display": false
  }
 },
 "nbformat": 4,
 "nbformat_minor": 4
}

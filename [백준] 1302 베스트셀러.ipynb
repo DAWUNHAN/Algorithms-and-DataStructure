{
 "cells": [
  {
   "cell_type": "markdown",
   "metadata": {},
   "source": [
    "- 가장 많이 팔린 책의 제목을 출력한다.\n",
    "- 문자열을 출력하는 문제와 동일.\n",
    "- 등장 횟수를 계산할 때는 dictionary를 이용하면 효과적\n",
    "- 입력 : 첫 번째 줄에 책의 개수. 두 번째부터 책의 제목."
   ]
  },
  {
   "cell_type": "code",
   "execution_count": 1,
   "metadata": {},
   "outputs": [
    {
     "name": "stdout",
     "output_type": "stream",
     "text": [
      "3\n",
      "HarryPotter\n",
      "HarryPotter\n",
      "Potter\n",
      "답:  HarryPotter\n"
     ]
    }
   ],
   "source": [
    "# 책의 개수를 입력 받는다.\n",
    "n = int(input())\n",
    "\n",
    "# 책의 제목을 담을 딕셔너리 books.\n",
    "books = {}\n",
    "\n",
    "# 책의 제목을 담는다. \n",
    "for _ in range(n):\n",
    "    book = input()\n",
    "    # 딕셔너리에 존재 하지 않는 책이라면 개수 1 추가.\n",
    "    if book not in books:\n",
    "        books[book] = 1\n",
    "    # 이미 존재하는 책이라면 1 증가.\n",
    "    else:\n",
    "        books[book] += 1\n",
    "\n",
    "# 가장 많은 책의 개수를 target에 입력.\n",
    "target = max(books.values())\n",
    "array = []\n",
    "\n",
    "for book, number in books.items():\n",
    "    # 가장 많은 책의 개수 target과 같은 책의 정보를 array에 입력.\n",
    "    if number == target:\n",
    "        array.append(book)\n",
    "        \n",
    "print(\"답: \", sorted(array)[0])"
   ]
  }
 ],
 "metadata": {
  "kernelspec": {
   "display_name": "Python 3",
   "language": "python",
   "name": "python3"
  },
  "language_info": {
   "codemirror_mode": {
    "name": "ipython",
    "version": 3
   },
   "file_extension": ".py",
   "mimetype": "text/x-python",
   "name": "python",
   "nbconvert_exporter": "python",
   "pygments_lexer": "ipython3",
   "version": "3.8.5"
  },
  "toc": {
   "base_numbering": 1,
   "nav_menu": {},
   "number_sections": true,
   "sideBar": true,
   "skip_h1_title": false,
   "title_cell": "Table of Contents",
   "title_sidebar": "Contents",
   "toc_cell": false,
   "toc_position": {},
   "toc_section_display": true,
   "toc_window_display": false
  }
 },
 "nbformat": 4,
 "nbformat_minor": 4
}

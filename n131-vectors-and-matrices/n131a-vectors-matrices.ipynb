{
  "nbformat": 4,
  "nbformat_minor": 0,
  "metadata": {
    "colab": {
      "name": "n131a-vectors-matrices.ipynb",
      "provenance": []
    },
    "kernelspec": {
      "display_name": "Python 3",
      "language": "python",
      "name": "python3"
    },
    "language_info": {
      "codemirror_mode": {
        "name": "ipython",
        "version": 3
      },
      "file_extension": ".py",
      "mimetype": "text/x-python",
      "name": "python",
      "nbconvert_exporter": "python",
      "pygments_lexer": "ipython3",
      "version": "3.8.2"
    }
  },
  "cells": [
    {
      "cell_type": "markdown",
      "metadata": {
        "id": "Y7hxe5O-9ukJ"
      },
      "source": [
        "<img src='https://i.imgur.com/RDAD11M.png' width = '200' align = 'right'>\n",
        "\n",
        "## *DATA SCIENCE / SECTION 1 / SPRINT 3 / NOTE 1*\n",
        "\n",
        "# 📝 Assignment"
      ]
    },
    {
      "cell_type": "markdown",
      "metadata": {
        "id": "yXA3GwWhY9KL"
      },
      "source": [
        "## 1. Portfolio\n",
        "\n",
        "`Dot product` & `Matrix Multiplication` 을 이용하여 다음 포트폴리오의 사람별 총합을 계산하세요.\n",
        "- 결과는 `res`에 list형태로 저장합니다.\n",
        "\n",
        "|People|Name|Price|Amount|\n",
        "|:-:|:-:|:-:|:-:|\n",
        "|X|A|100|35|\n",
        "|X|B|500|10|\n",
        "|X|C|250|25|\n",
        "|X|D|50|40|\n",
        "|Y|A|100|-|\n",
        "|Y|B|500|50|\n",
        "|Y|C|250|50|\n",
        "|Y|D|50|-|\n",
        "|Z|A|100|-|\n",
        "|Z|B|500|-|\n",
        "|Z|C|250|100|\n",
        "|Z|D|50|-|\n",
        "\n"
      ]
    },
    {
      "cell_type": "code",
      "metadata": {
        "id": "ErSR5soVblfv",
        "colab": {
          "base_uri": "https://localhost:8080/"
        },
        "outputId": "4e91cd56-86a7-48d4-bd53-b14cfa6e7345"
      },
      "source": [
        "import numpy as np\n",
        "\n",
        "amount = [[35, 10, 25, 40], [0, 50, 50, 0], [0, 0, 100, 0]]\n",
        "price = [[100], [500], [250], [50]]\n",
        "\n",
        "res = np.dot(amount, price)\n",
        "res"
      ],
      "execution_count": 1,
      "outputs": [
        {
          "output_type": "execute_result",
          "data": {
            "text/plain": [
              "array([[16750],\n",
              "       [37500],\n",
              "       [25000]])"
            ]
          },
          "metadata": {},
          "execution_count": 1
        }
      ]
    },
    {
      "cell_type": "markdown",
      "metadata": {
        "id": "dMgAVgIuGe_B"
      },
      "source": [
        "## 2. Norms\n",
        "\n",
        "주어진 값 $x_0, x_1, ... x_n$ 를 element로 갖는 벡터 $v$에 대하여 \n",
        "\n",
        "$L_1$ Norm 의 정의는 다음과 같습니다. \n",
        "\n",
        "$|v| = |x_0| + |x_1| + ... + |x_n|$\n",
        "\n",
        "$L_2$ Norm 의 정의는 다음과 같습니다.\n",
        "\n",
        "$||v|| = \\sqrt {{x_0}^2 + {x_1}^2 + ... + {x_n}^2}$\n",
        "\n",
        "이를 참조하여 주어진 벡터에 대해서 $L_2$ Norm 의 값과 $L_1$ Norm 의 값의 차이(**절대값**)를 계산하는 함수를 만드세요.\n",
        "\n"
      ]
    },
    {
      "cell_type": "code",
      "metadata": {
        "id": "XrYfAExIGemC"
      },
      "source": [
        "def NormDif(v): \n",
        "    l1_norm = np.sum(abs(v))\n",
        "    l2_norm = np.sqrt(np.sum(v**2))\n",
        "\n",
        "    return abs(l1_norm - l2_norm)"
      ],
      "execution_count": 2,
      "outputs": []
    },
    {
      "cell_type": "markdown",
      "metadata": {
        "id": "VBJHWdyalU4G"
      },
      "source": [
        "## 3. Errors\n",
        "\n",
        "\n",
        "\n",
        "- 2개의 벡터와, error의 타입을 입력받아 그 결과값을 계산하는 함수를 작성하세요.\n",
        "\n",
        "- 여기서 error의 타입은 `MSE`, `MAE` 2가지 입니다.\n",
        "\n"
      ]
    },
    {
      "cell_type": "code",
      "metadata": {
        "id": "LQy8_pEUHHDC",
        "colab": {
          "base_uri": "https://localhost:8080/"
        },
        "outputId": "b19b6635-7ca3-4ac2-e71e-f819fd3c53ac"
      },
      "source": [
        "def error(x, y, type) :\n",
        "    if type == 'MSE':\n",
        "      MSE = np.square(np.subtract(x, y)).mean()\n",
        "      return MSE\n",
        "    elif type == 'MAE':\n",
        "      MAE = np.mean(np.abs(x-y))\n",
        "      return MAE\n",
        "\n",
        "error(10, 0, 'MSE'), error(10, 0, 'MAE')"
      ],
      "execution_count": 24,
      "outputs": [
        {
          "output_type": "execute_result",
          "data": {
            "text/plain": [
              "(100.0, 10.0)"
            ]
          },
          "metadata": {},
          "execution_count": 24
        }
      ]
    },
    {
      "cell_type": "markdown",
      "metadata": {
        "id": "l2Teph_aS16e"
      },
      "source": [
        "# 4. Inverse\n",
        "\n",
        "- 주어진 matrix에 대해서 inverse matrix를 계산하여 반환하는 함수를 작성하세요. \n",
        "- 이 때 inverse 계산이 불가능 한 경우 `-1` 을 반환합니다."
      ]
    },
    {
      "cell_type": "code",
      "metadata": {
        "id": "1hseshZkS1eX",
        "colab": {
          "base_uri": "https://localhost:8080/"
        },
        "outputId": "c4d96bde-1e1c-45b2-bece-2bb6b90cb997"
      },
      "source": [
        "def myInverse(m) : # m = np.array()\n",
        "    ans = np.linalg.inv(m)\n",
        "    return ans\n",
        "\n",
        "myInverse(np.array([[1, 3], [5, 7]]))"
      ],
      "execution_count": 25,
      "outputs": [
        {
          "output_type": "execute_result",
          "data": {
            "text/plain": [
              "array([[-0.875,  0.375],\n",
              "       [ 0.625, -0.125]])"
            ]
          },
          "metadata": {},
          "execution_count": 25
        }
      ]
    },
    {
      "cell_type": "markdown",
      "metadata": {
        "id": "V0iTO4McYjtk"
      },
      "source": [
        "# 🔥 도전과제 \n",
        "\n"
      ]
    },
    {
      "cell_type": "markdown",
      "metadata": {
        "id": "3p45qAIGFTBZ"
      },
      "source": [
        "다음 링크의 내용을 참조하여 **Cramer's rule**을 사용해 $x_1$, $x_2$, $x_3$의 값을 구하세요.\n",
        "\n",
        "<https://youtu.be/6StS7VjtuGI>\n",
        "\n",
        "\n",
        "$x_1$ + $2x_3$ = 6\n",
        "\n",
        "$-3x_1$ + $4x_2$ + $6x_3$ = 30\n",
        "\n",
        "$-x_1$ $-2x_2$ + $3x_3$ = 8\n",
        "\n"
      ]
    },
    {
      "cell_type": "code",
      "metadata": {
        "colab": {
          "base_uri": "https://localhost:8080/"
        },
        "id": "DKPoQtXR4SaV",
        "outputId": "2ab907f2-a026-40c2-962c-a2ee6a3e3aa5"
      },
      "source": [
        "a = np.array([[1, 0, 2], [-3, 4, 6], [-1, -2, 3]])\n",
        "# x = np.array([[x1], [x2], [x3]])\n",
        "b = np.array([[6], [30], [8]])\n",
        "\n",
        "x = np.dot(myInverse(a), b)\n",
        "print(x)\n"
      ],
      "execution_count": 28,
      "outputs": [
        {
          "output_type": "stream",
          "name": "stdout",
          "text": [
            "[[-0.90909091]\n",
            " [ 1.63636364]\n",
            " [ 3.45454545]]\n"
          ]
        }
      ]
    }
  ]
}
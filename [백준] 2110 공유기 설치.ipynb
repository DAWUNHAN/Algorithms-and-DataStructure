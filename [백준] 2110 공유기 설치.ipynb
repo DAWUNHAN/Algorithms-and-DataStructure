{
 "cells": [
  {
   "cell_type": "markdown",
   "metadata": {},
   "source": [
    "# 문제 설명 \n",
    "\n",
    "- [백준 문제](https://www.acmicpc.net/problem/2110)\n",
    "- 난이도 : 중\n",
    "- 문제 유형 : 이진 탐색\n",
    "- 입력 : 첫째 줄에 집의 개수 N (2 ≤ N ≤ 200,000)과 공유기의 개수 C (2 ≤ C ≤ N)이 하나 이상의 빈 칸을 사이에 두고 주어진다. 둘째 줄부터 N개의 줄에는 집의 좌표를 나타내는 xi (0 ≤ xi ≤ 1,000,000,000)가 한 줄에 하나씩 주어진다.\n",
    "- 출력 : 가장 입접한 두 공유기 사이의 최대 거리\n",
    "\n",
    "# 문제풀이 아이디어\n",
    "- 이진 탐색을 이용하여 O(N * logX)로 해결한다. (X = 집의 좌표)\n",
    "    - 20만 * log10억 = 약 600만\n",
    "- 두 공유기 사이의 최대 간격을 이진 탐색으로 찾는다. \n",
    "- 탐색 범위가 클 때는 logX를 요구한다고 가정한다. \n",
    "- 이진 탐색 구현 방법 : 재귀적 or 반복적\n",
    "\n",
    "# 이진 탐색\n",
    "- 탐색 범위를 절반으로 쪼개면서 탐색하는 방법이다.\n",
    "- 배열 내부의 데이터가 정렬되어 있어야 사용할 수 있다. \n",
    "- 필요한 변수 : 시작점, 끝점, 중간점\n",
    "- 찾으려는 값과 중간점을 반복적으로 비교한다. \n",
    "- 한번 확인할 때마다 확인하는 원소의 개수가 절반씩 줄어드므로 시간복잡도 O(logN)이다. "
   ]
  },
  {
   "cell_type": "markdown",
   "metadata": {},
   "source": [
    "# 구현 코드"
   ]
  },
  {
   "cell_type": "code",
   "execution_count": 4,
   "metadata": {},
   "outputs": [
    {
     "name": "stdout",
     "output_type": "stream",
     "text": [
      "5 3\n",
      "1\n",
      "2\n",
      "8\n",
      "4\n",
      "9\n",
      "3\n"
     ]
    }
   ],
   "source": [
    "n, c = list(map(int, input().split(' ')))\n",
    "            \n",
    "array = []\n",
    "for _ in range(n):\n",
    "    array.append(int(input()))\n",
    "array = sorted(array)\n",
    "            \n",
    "start = array[1] - array[0] # 최소 거리\n",
    "end = array[-1] - array[0] # 최대 거리\n",
    "result = 0\n",
    "\n",
    "while(start <= end):\n",
    "    mid = (start + end) // 2 # 중간값 찾기\n",
    "    value = array[0]\n",
    "    count = 1\n",
    "    for i in range(1, len(array)):\n",
    "        if array[i] >= value + mid:\n",
    "            value = array[i]\n",
    "            count += 1\n",
    "    if count >= c:\n",
    "        start = mid + 1\n",
    "        result = mid\n",
    "    else:\n",
    "        end = mid -1\n",
    "            \n",
    "print(result)\n",
    "            "
   ]
  }
 ],
 "metadata": {
  "kernelspec": {
   "display_name": "Python 3",
   "language": "python",
   "name": "python3"
  },
  "language_info": {
   "codemirror_mode": {
    "name": "ipython",
    "version": 3
   },
   "file_extension": ".py",
   "mimetype": "text/x-python",
   "name": "python",
   "nbconvert_exporter": "python",
   "pygments_lexer": "ipython3",
   "version": "3.8.5"
  },
  "toc": {
   "base_numbering": 1,
   "nav_menu": {},
   "number_sections": true,
   "sideBar": true,
   "skip_h1_title": false,
   "title_cell": "Table of Contents",
   "title_sidebar": "Contents",
   "toc_cell": false,
   "toc_position": {},
   "toc_section_display": true,
   "toc_window_display": false
  }
 },
 "nbformat": 4,
 "nbformat_minor": 4
}

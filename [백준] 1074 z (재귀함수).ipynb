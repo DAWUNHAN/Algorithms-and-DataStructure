{
 "cells": [
  {
   "cell_type": "markdown",
   "metadata": {},
   "source": [
    "## 문제 해설\n",
    "\n",
    "- 난이도 : 중\n",
    "- 문제 유형 : 재귀 함수"
   ]
  },
  {
   "cell_type": "code",
   "execution_count": 6,
   "metadata": {},
   "outputs": [
    {
     "name": "stdout",
     "output_type": "stream",
     "text": [
      "2 1 1\n",
      "3\n"
     ]
    }
   ],
   "source": [
    "def solve(n, x, y):\n",
    "    global result\n",
    "    if n == 2:\n",
    "        if x == X and y == Y:\n",
    "            print(result)\n",
    "            return\n",
    "        result += 1\n",
    "        if x == X and y+1 == Y:\n",
    "            print(result)\n",
    "            return\n",
    "        result += 1\n",
    "        if x+1 == X and y == Y:\n",
    "            print(result)\n",
    "            return\n",
    "        result += 1\n",
    "        if x+1 == X and y+1 == Y:\n",
    "            print(result)\n",
    "            return\n",
    "        result += 1\n",
    "        return\n",
    "    # 재귀 함수 형태로 반복한다. \n",
    "    solve(n / 2, x, y)\n",
    "    solve(n / 2, x, y + n / 2)\n",
    "    solve(n / 2, x + n / 2, y)\n",
    "    solve(n / 2, x + n / 2, y + n / 2)\n",
    "    \n",
    "result = 0\n",
    "N, X, Y = map(int, input().split(' '))\n",
    "solve(2**N, 0, 0)"
   ]
  }
 ],
 "metadata": {
  "kernelspec": {
   "display_name": "Python 3",
   "language": "python",
   "name": "python3"
  },
  "language_info": {
   "codemirror_mode": {
    "name": "ipython",
    "version": 3
   },
   "file_extension": ".py",
   "mimetype": "text/x-python",
   "name": "python",
   "nbconvert_exporter": "python",
   "pygments_lexer": "ipython3",
   "version": "3.8.5"
  }
 },
 "nbformat": 4,
 "nbformat_minor": 4
}

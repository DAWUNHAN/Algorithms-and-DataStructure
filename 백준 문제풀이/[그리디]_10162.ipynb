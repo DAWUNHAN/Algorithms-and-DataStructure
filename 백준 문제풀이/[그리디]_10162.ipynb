{
  "nbformat": 4,
  "nbformat_minor": 0,
  "metadata": {
    "colab": {
      "name": "[그리디] 10162.ipynb",
      "provenance": [],
      "collapsed_sections": [],
      "authorship_tag": "ABX9TyMP7ofm4nKwx0k/epdUu1GJ",
      "include_colab_link": true
    },
    "kernelspec": {
      "name": "python3",
      "display_name": "Python 3"
    },
    "language_info": {
      "name": "python"
    }
  },
  "cells": [
    {
      "cell_type": "markdown",
      "metadata": {
        "id": "view-in-github",
        "colab_type": "text"
      },
      "source": [
        "<a href=\"https://colab.research.google.com/github/DAWUNHAN/algorithms-and-dataStructure/blob/master/%EB%B0%B1%EC%A4%80%20%EB%AC%B8%EC%A0%9C%ED%92%80%EC%9D%B4/%5B%EA%B7%B8%EB%A6%AC%EB%94%94%5D_10162.ipynb\" target=\"_parent\"><img src=\"https://colab.research.google.com/assets/colab-badge.svg\" alt=\"Open In Colab\"/></a>"
      ]
    },
    {
      "cell_type": "code",
      "execution_count": 11,
      "metadata": {
        "colab": {
          "base_uri": "https://localhost:8080/"
        },
        "id": "0skmakPRMy4Z",
        "outputId": "4e37b3fc-67a1-47f1-b4d6-cfaf97148436"
      },
      "outputs": [
        {
          "output_type": "stream",
          "name": "stdout",
          "text": [
            "1000\n",
            "100 3\n",
            "3 1 4\n"
          ]
        }
      ],
      "source": [
        "# 단순 코드 (시간이 다소 오래 걸린다)\n",
        "\n",
        "a = 300\n",
        "b = 60\n",
        "c = 10\n",
        "\n",
        "n = int(input())\n",
        "num_a, num_b, num_c = 0, 0, 0\n",
        "\n",
        "if n >= a:\n",
        "  div_a = n//a\n",
        "  n -= div_a*a\n",
        "  num_a = div_a\n",
        "\n",
        "if n >= b:\n",
        "  div_b = n//b\n",
        "  n -= div_b*b\n",
        "  num_b = div_b\n",
        "\n",
        "if n >= c:\n",
        "  div_c = n//c\n",
        "  n -= div_c*c\n",
        "  num_c = div_c\n",
        "\n",
        "if n>0:\n",
        "  print(-1)\n",
        "else:\n",
        "  print(num_a, num_b, num_c)"
      ]
    },
    {
      "cell_type": "code",
      "source": [
        "# 더 깔끔한 코드\n",
        "\n",
        "n = int(input())\n",
        "\n",
        "# 우선 10 단위로 나뉘지 않으면 즉시 -1을 출력한다.\n",
        "if n%10 != 0:\n",
        "  print(-1)\n",
        "# 그 외의 경우는 얼만큼 나뉘는지 계산한다.\n",
        "else:\n",
        "  a, b, c = 0, 0, 0\n",
        "  a = n//300                # 300으로 나눴을 때 몫\n",
        "  b = (n%300) // 60         # 300으로 나눈 나머지를 다시 60으로 나눈 몫\n",
        "  c = ((n%300)%60) // 10    # 300으로 나눈 나머지를 다시 60으로 나눈 나머지를 10으로 나눴을 때의 몫\n",
        "  print(a, b, c)"
      ],
      "metadata": {
        "colab": {
          "base_uri": "https://localhost:8080/"
        },
        "id": "lk1oeRdvRj1R",
        "outputId": "99756add-a26d-49c3-a0cc-0f3ae598b188"
      },
      "execution_count": 12,
      "outputs": [
        {
          "output_type": "stream",
          "name": "stdout",
          "text": [
            "1000\n",
            "3 1 4\n"
          ]
        }
      ]
    }
  ]
}
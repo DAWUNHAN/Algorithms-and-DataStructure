{
  "nbformat": 4,
  "nbformat_minor": 0,
  "metadata": {
    "colab": {
      "name": "[분할과 정복] 2630.ipynb",
      "provenance": [],
      "collapsed_sections": [],
      "authorship_tag": "ABX9TyOONNfQegm72cm3Juxtr/Y/",
      "include_colab_link": true
    },
    "kernelspec": {
      "name": "python3",
      "display_name": "Python 3"
    },
    "language_info": {
      "name": "python"
    }
  },
  "cells": [
    {
      "cell_type": "markdown",
      "metadata": {
        "id": "view-in-github",
        "colab_type": "text"
      },
      "source": [
        "<a href=\"https://colab.research.google.com/github/DAWUNHAN/algorithms-and-dataStructure/blob/master/%EB%B0%B1%EC%A4%80%20%EB%AC%B8%EC%A0%9C%ED%92%80%EC%9D%B4/%5B%EB%B6%84%ED%95%A0%EA%B3%BC_%EC%A0%95%EB%B3%B5%5D_2630.ipynb\" target=\"_parent\"><img src=\"https://colab.research.google.com/assets/colab-badge.svg\" alt=\"Open In Colab\"/></a>"
      ]
    },
    {
      "cell_type": "markdown",
      "source": [
        "# 2630 - 색종이 개수 구하기\n",
        "- [문제](https://www.acmicpc.net/problem/2630)\n",
        "- 정사각형의 색종이가 총 몇 개 있는가? \n",
        "\n",
        "## 입력과 출력\n",
        "- 첫 번째 줄 : 한 변의 길이\n",
        "- 그 외의 줄 : 1은 파란색, 0은 흰 색\n",
        "- 출력 : 흰 색의 개수, 파란색의 개수"
      ],
      "metadata": {
        "id": "M1UsOb2vjxTE"
      }
    },
    {
      "cell_type": "code",
      "source": [
        "import sys\n",
        "n = int(input())                                # 한 변의 길이 입력 받는다. \n",
        "paper = list()                                  # 어떤 색으로 구성되었는지 색종이 정보를 리스트로 담는다. \n",
        "white = blue = 0                                # 최종 값으로 출력할 white, blue\n",
        "\n",
        "for _ in range(n):\n",
        "  paper.append(list(map(int, input().split())))\n",
        "\n",
        "def count_colors(x, y, n):\n",
        "  cnt = 0\n",
        "  global white, blue                            # 전역 변수 선언\n",
        "  for i in range(x, x+n):                       # 색종이 길이 만큼 반복\n",
        "    for j in range(y, y+n):\n",
        "      if paper[i][j] == 1:                      # 색종이 값이 1이라면 -> 블루\n",
        "        cnt += 1                                # temporary 변수 cnt를 1 증가\n",
        "  \n",
        "  if cnt == n**2:                               # 색종이의 크기는 n*n 즉, n**2 \n",
        "    blue += 1                                   # 이 색종이 크기와 cnt (블루일 때 증가)가 같음은 정사각형 색종이 하나가 통째로 블루임을 뜻한다.\n",
        "  \n",
        "  elif cnt == 0:                                # cnt==0은 모든 색종이가 화이트인 경우\n",
        "    white += 1\n",
        "\n",
        "  else:\n",
        "    count_colors(x, y, n//2)                    # 1, 2, 3, 4사분면으로 나눈 뒤 반복 하는 과정\n",
        "    count_colors(x, y+n//2, n//2)               \n",
        "    count_colors(x+n//2, y, n//2)\n",
        "    count_colors(x+n//2, y+n//2, n//2)\n",
        "\n",
        "  return\n",
        "\n",
        "count_colors(0, 0, n)                           # 좌표 0, 0에서 시작한다.\n",
        "print(white)\n",
        "print(blue)"
      ],
      "metadata": {
        "colab": {
          "base_uri": "https://localhost:8080/"
        },
        "id": "8-xwCRRt0nan",
        "outputId": "b5b59483-2700-4765-e8dd-4d76ff55f185"
      },
      "execution_count": 4,
      "outputs": [
        {
          "output_type": "stream",
          "name": "stdout",
          "text": [
            "8\n",
            "1 1 0 0 0 0 1 1\n",
            "1 1 0 0 0 0 1 1\n",
            "0 0 0 0 1 1 0 0\n",
            "0 0 0 0 1 1 0 0\n",
            "1 0 0 0 1 1 1 1\n",
            "0 1 0 0 1 1 1 1\n",
            "0 0 1 1 1 1 1 1\n",
            "0 0 1 1 1 1 1 1\n",
            "9\n",
            "7\n"
          ]
        }
      ]
    }
  ]
}
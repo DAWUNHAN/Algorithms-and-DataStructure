{
  "nbformat": 4,
  "nbformat_minor": 0,
  "metadata": {
    "colab": {
      "name": "[그래프] 9372.ipynb",
      "provenance": [],
      "authorship_tag": "ABX9TyPsFxuAO05OlEGWlMvIQ5W+",
      "include_colab_link": true
    },
    "kernelspec": {
      "name": "python3",
      "display_name": "Python 3"
    },
    "language_info": {
      "name": "python"
    }
  },
  "cells": [
    {
      "cell_type": "markdown",
      "metadata": {
        "id": "view-in-github",
        "colab_type": "text"
      },
      "source": [
        "<a href=\"https://colab.research.google.com/github/DAWUNHAN/algorithms-and-dataStructure/blob/master/%EB%B0%B1%EC%A4%80%20%EB%AC%B8%EC%A0%9C%ED%92%80%EC%9D%B4/%5B%EA%B7%B8%EB%9E%98%ED%94%84%5D_9372.ipynb\" target=\"_parent\"><img src=\"https://colab.research.google.com/assets/colab-badge.svg\" alt=\"Open In Colab\"/></a>"
      ]
    },
    {
      "cell_type": "code",
      "source": [
        "import sys\n",
        "n = int(sys.stdin.readline())\n",
        "\n",
        "for i in range(n):\n",
        "  country, plane = sys.stdin.readline().split()\n",
        "\n",
        "  for _ in range(int(plane)):\n",
        "    a = sys.stdin.readline()\n",
        "  print(int(country)-1)\n",
        "  "
      ],
      "metadata": {
        "id": "QMB5qVCJsdoW"
      },
      "execution_count": null,
      "outputs": []
    }
  ]
}
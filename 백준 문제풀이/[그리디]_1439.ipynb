{
  "nbformat": 4,
  "nbformat_minor": 0,
  "metadata": {
    "colab": {
      "name": "[그리디] 1439.ipynb",
      "provenance": [],
      "authorship_tag": "ABX9TyNv/+z6RmAu/SqSdrXdLjJh",
      "include_colab_link": true
    },
    "kernelspec": {
      "name": "python3",
      "display_name": "Python 3"
    },
    "language_info": {
      "name": "python"
    }
  },
  "cells": [
    {
      "cell_type": "markdown",
      "metadata": {
        "id": "view-in-github",
        "colab_type": "text"
      },
      "source": [
        "<a href=\"https://colab.research.google.com/github/DAWUNHAN/algorithms-and-dataStructure/blob/master/%EB%B0%B1%EC%A4%80%20%EB%AC%B8%EC%A0%9C%ED%92%80%EC%9D%B4/%5B%EA%B7%B8%EB%A6%AC%EB%94%94%5D_1439.ipynb\" target=\"_parent\"><img src=\"https://colab.research.google.com/assets/colab-badge.svg\" alt=\"Open In Colab\"/></a>"
      ]
    },
    {
      "cell_type": "code",
      "execution_count": 12,
      "metadata": {
        "colab": {
          "base_uri": "https://localhost:8080/"
        },
        "id": "RjhtUeVeSso-",
        "outputId": "0c412f68-f9cf-425a-9ad5-126301f70549"
      },
      "outputs": [
        {
          "output_type": "stream",
          "name": "stdout",
          "text": [
            "1110001100\n",
            "2\n"
          ]
        }
      ],
      "source": [
        "n = list(map(int, input()))\n",
        "group = 0\n",
        "\n",
        "for i in range(len(n)-1):\n",
        "  if n[i] == n[i+1]:\n",
        "    pass\n",
        "  else:\n",
        "    group += 1    # 총 몇개의 그룹이 있는가 계산\n",
        "\n",
        "print((group+1)//2)"
      ]
    }
  ]
}
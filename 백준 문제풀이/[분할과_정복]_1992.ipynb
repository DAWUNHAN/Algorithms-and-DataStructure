{
  "nbformat": 4,
  "nbformat_minor": 0,
  "metadata": {
    "colab": {
      "name": "[분할과 정복] 1992.ipynb",
      "provenance": [],
      "collapsed_sections": [],
      "authorship_tag": "ABX9TyOpHvkjeVzLMz6y+8etJqxg",
      "include_colab_link": true
    },
    "kernelspec": {
      "name": "python3",
      "display_name": "Python 3"
    },
    "language_info": {
      "name": "python"
    }
  },
  "cells": [
    {
      "cell_type": "markdown",
      "metadata": {
        "id": "view-in-github",
        "colab_type": "text"
      },
      "source": [
        "<a href=\"https://colab.research.google.com/github/DAWUNHAN/algorithms-and-dataStructure/blob/master/%EB%B0%B1%EC%A4%80%20%EB%AC%B8%EC%A0%9C%ED%92%80%EC%9D%B4/%5B%EB%B6%84%ED%95%A0%EA%B3%BC_%EC%A0%95%EB%B3%B5%5D_1992.ipynb\" target=\"_parent\"><img src=\"https://colab.research.google.com/assets/colab-badge.svg\" alt=\"Open In Colab\"/></a>"
      ]
    },
    {
      "cell_type": "markdown",
      "source": [
        "# 백준 1992\n",
        "- [문제](https://www.acmicpc.net/problem/1992)\n",
        "- 분할과 정복 문제이다. "
      ],
      "metadata": {
        "id": "24ptMI-9tR0V"
      }
    },
    {
      "cell_type": "code",
      "execution_count": 17,
      "metadata": {
        "colab": {
          "base_uri": "https://localhost:8080/"
        },
        "id": "KeLl38haeQRE",
        "outputId": "fe83a76d-3706-4a1d-cf17-e9995d11c534"
      },
      "outputs": [
        {
          "output_type": "stream",
          "name": "stdout",
          "text": [
            "8\n",
            "11110000\n",
            "11110000\n",
            "00011100\n",
            "00011100\n",
            "11110000\n",
            "11110000\n",
            "11110011\n",
            "11110011\n",
            "((110(0101))(0010)1(0001))"
          ]
        }
      ],
      "source": [
        "n = int(input())\n",
        "num = list()\n",
        "\n",
        "for _ in range(n):\n",
        "  num.append(list(map(int, input())))     # 백준에서는 input대신 'sys.stdin.readline().strip()으로 사용.\n",
        "\n",
        "def quad_tree(x, y, n):                   # 재귀 함수 방식으로 해결해야 하므로 함수 정의.\n",
        "  check = num[x][y]                       # 맨 처음 색이 어떤지, 이 색이 바뀌면 작은 단위로 분할하여 함수 호출하는 방식.\n",
        "  for i in range(x, x+n):                 # 처음부터 끝까지 모든 값들의 색을 확인한다.\n",
        "    for j in range(y, y+n):\n",
        "      if check != num[i][j]:              # 색이 처음이랑 바뀐 경우 for문을 종류한다.\n",
        "        check = -1\n",
        "        break\n",
        "\n",
        "  if check == -1:                         # 처음 색과 달라졌다 -> 즉, 더 작은 단위로 분할 해야 한다.\n",
        "      print(\"(\", end='')                  # 문제 출력값 조건에 따라 괄호로 시작한다. \n",
        "      n = n//2                            # 반으로 쪼갠다.\n",
        "      quad_tree(x, y, n)\n",
        "      quad_tree(x, y+n, n)\n",
        "      quad_tree(x+n, y, n)\n",
        "      quad_tree(x+n, y+n, n)\n",
        "      print(\")\", end='')\n",
        "\n",
        "  elif check == 1:                        # 그 색이 처음부터 끝까지 1이라면 1을 출력\n",
        "    print(1, end='')\n",
        "  else:\n",
        "    print(0, end='')\n",
        "\n",
        "quad_tree(0, 0, n)                        # 함수 호출"
      ]
    }
  ]
}
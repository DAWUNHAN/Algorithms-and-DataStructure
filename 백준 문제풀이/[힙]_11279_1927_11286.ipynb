{
  "nbformat": 4,
  "nbformat_minor": 0,
  "metadata": {
    "colab": {
      "name": "[힙] 11279_1927_11286.ipynb",
      "provenance": [],
      "collapsed_sections": [],
      "authorship_tag": "ABX9TyOg6cTbAbq8H/8GHErNXhk2",
      "include_colab_link": true
    },
    "kernelspec": {
      "name": "python3",
      "display_name": "Python 3"
    },
    "language_info": {
      "name": "python"
    }
  },
  "cells": [
    {
      "cell_type": "markdown",
      "metadata": {
        "id": "view-in-github",
        "colab_type": "text"
      },
      "source": [
        "<a href=\"https://colab.research.google.com/github/DAWUNHAN/algorithms-and-dataStructure/blob/master/%EB%B0%B1%EC%A4%80%20%EB%AC%B8%EC%A0%9C%ED%92%80%EC%9D%B4/%5B%ED%9E%99%5D_11279_1927_11286.ipynb\" target=\"_parent\"><img src=\"https://colab.research.google.com/assets/colab-badge.svg\" alt=\"Open In Colab\"/></a>"
      ]
    },
    {
      "cell_type": "code",
      "source": [
        "# 11279 (최대힙) 정답\n",
        "import heapq\n",
        "import sys\n",
        "\n",
        "n = int(input())\n",
        "n_list = []\n",
        "\n",
        "for _ in range(n):\n",
        "  num = int(sys.stdin.readline())\n",
        "  if num == 0:\n",
        "    try:\n",
        "      print(-(heapq.heappop(n_list)))\n",
        "    except:\n",
        "      print(0)\n",
        "  else:\n",
        "    heapq.heappush(n_list, -num)\n"
      ],
      "metadata": {
        "id": "C_uJht8duNF4"
      },
      "execution_count": null,
      "outputs": []
    },
    {
      "cell_type": "code",
      "source": [
        "# 1927 (최소힙) 정답\n",
        "import heapq\n",
        "import sys\n",
        "\n",
        "n = int(input())\n",
        "n_list = []\n",
        "\n",
        "for _ in range(n):\n",
        "  num = int(sys.stdin.readline())\n",
        "  if num == 0:\n",
        "    try:\n",
        "      print(heapq.heappop(n_list))\n",
        "    except:\n",
        "      print(0)\n",
        "  else:\n",
        "    heapq.heappush(n_list, num)\n"
      ],
      "metadata": {
        "id": "EnRfKqHgxVJI"
      },
      "execution_count": null,
      "outputs": []
    },
    {
      "cell_type": "code",
      "source": [
        "# 11286 (절대값 힙) 답\n",
        "\n",
        "import heapq\n",
        "import sys\n",
        "\n",
        "n = int(input())\n",
        "n_list = []\n",
        "\n",
        "for _ in range(n):\n",
        "  num = int(sys.stdin.readline())\n",
        "  if num == 0:\n",
        "    try:\n",
        "      print(heapq.heappop(n_list)[1])\n",
        "    except:\n",
        "      print(0)\n",
        "  elif num <0:\n",
        "    heapq.heappush(n_list, (-num, num))\n",
        "  else:\n",
        "    heapq.heappush(n_list, (num, num))"
      ],
      "metadata": {
        "id": "am_Pg-QQzSEd"
      },
      "execution_count": null,
      "outputs": []
    }
  ]
}
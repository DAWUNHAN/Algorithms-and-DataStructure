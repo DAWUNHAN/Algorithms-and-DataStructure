{
  "nbformat": 4,
  "nbformat_minor": 0,
  "metadata": {
    "colab": {
      "name": "[그리디] 5585.ipynb",
      "provenance": [],
      "collapsed_sections": [],
      "authorship_tag": "ABX9TyPGhWcc2qpW2qNbMEJsJc4l",
      "include_colab_link": true
    },
    "kernelspec": {
      "name": "python3",
      "display_name": "Python 3"
    },
    "language_info": {
      "name": "python"
    }
  },
  "cells": [
    {
      "cell_type": "markdown",
      "metadata": {
        "id": "view-in-github",
        "colab_type": "text"
      },
      "source": [
        "<a href=\"https://colab.research.google.com/github/DAWUNHAN/algorithms-and-dataStructure/blob/master/%EB%B0%B1%EC%A4%80%20%EB%AC%B8%EC%A0%9C%ED%92%80%EC%9D%B4/%5B%EA%B7%B8%EB%A6%AC%EB%94%94%5D_5585.ipynb\" target=\"_parent\"><img src=\"https://colab.research.google.com/assets/colab-badge.svg\" alt=\"Open In Colab\"/></a>"
      ]
    },
    {
      "cell_type": "code",
      "execution_count": 8,
      "metadata": {
        "colab": {
          "base_uri": "https://localhost:8080/"
        },
        "id": "_G3OqExwJzq5",
        "outputId": "4049f1a7-9a3d-475f-c084-eed9d65d4133"
      },
      "outputs": [
        {
          "output_type": "stream",
          "name": "stdout",
          "text": [
            "1\n",
            "15\n"
          ]
        }
      ],
      "source": [
        "pay = int(input())\n",
        "change = 1000 -  pay\n",
        "coins = [500, 100, 50, 10, 5, 1]\n",
        "result = 0\n",
        "\n",
        "if change > 500:\n",
        "  result += 1\n",
        "  change -= 500\n",
        "\n",
        "for i in range(1, len(coins)):\n",
        "  num = change//coins[i]\n",
        "  if num > 0:\n",
        "    result += num\n",
        "    change -= coins[i]*num\n",
        "\n",
        "print(result)"
      ]
    }
  ]
}
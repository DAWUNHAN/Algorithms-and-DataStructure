{
  "cells": [
    {
      "cell_type": "markdown",
      "metadata": {
        "id": "PIJZ9Hsg5-Xz"
      },
      "source": [
        "## 백준 문제 1966 \n",
        "\n",
        "- 난이도: 하\n",
        "- 문제 유형: 큐, 구현, 그리디\n",
        "- [문제](https://www.acmicpc.net/problem/1966)\n",
        "- 중요도에 따라 출력을 하는 문제 이다. \n",
        "- 입력 : 맨 첫번째 줄은 총 테스트 케이스의 개수.\n",
        "        각 테스트 케이스는 2줄씩 입력 된다. (총 문서의 개수, 몇 번째로 출력되는지 궁금한 문서의 위치), (문서들의 중요도)\n",
        "        1          # 이 경우 총 테스트 케이스 1개가 들어오고,\n",
        "        4 2        # 4개의 문서 중에서 2번째(0부터 시작)의 문서의 출력 순서를 찾아라.\n",
        "        1 2 3 4    # 문서의 중요도는 각각 1, 2, 3, 4이다. \n",
        "        # 이 때 답은 2가 출력된다. (2에 위치한 숫자는 3이므로, 3의 출력 순서는 두번째-> 답 2)\n",
        "        \n"
      ]
    },
    {
      "cell_type": "code",
      "execution_count": 31,
      "metadata": {
        "colab": {
          "base_uri": "https://localhost:8080/"
        },
        "id": "WUz5s4LI5-X4",
        "outputId": "a9ad8220-d6f0-4596-c74f-5018abeeffe2"
      },
      "outputs": [
        {
          "output_type": "stream",
          "name": "stdout",
          "text": [
            "1\n",
            "4 2\n",
            "2 1 4 3\n",
            "1\n"
          ]
        }
      ],
      "source": [
        "test_case = int(input())\n",
        "\n",
        "for _ in range(test_case):\n",
        "    n, m = list(map(int, input().split(' ')))\n",
        "    queue = list(map(int, input().split(' ')))\n",
        "    \n",
        "    # 튜플 형식으로 넣는다. [2, 1, 4, 3] -> [(2, 0), (1, 1), (4, 2), (3,3)] 이런 식으로 인덱스 값을 원소 뒤에 붙인다.\n",
        "    queue = [(i, idx) for idx, i in enumerate(queue)]\n",
        "    \n",
        "    count = 0\n",
        "    while True:\n",
        "        # queue안에 있는 원소 중 가장 큰 값이라면 if 실행\n",
        "        if queue[0][0] == max(queue, key=lambda x: x[0])[0]:\n",
        "            count += 1\n",
        "            # 문제에서 찾길 원하는 원소인 경우\n",
        "            if queue[0][1] == m:\n",
        "                print(count)\n",
        "                break\n",
        "            else:\n",
        "                queue.pop(0)\n",
        "        else:\n",
        "            queue.append(queue.pop(0))\n",
        "            "
      ]
    },
    {
      "cell_type": "code",
      "source": [
        "# test_case = int(input())\n",
        "# result = []\n",
        "# for _ in range(test_case):\n",
        "#     n, m = list(map(int, input().split(' ')))\n",
        "#     queue = list(map(int, input().split(' ')))\n",
        "\n",
        "#     queue = [(idx, i) for idx, i in enumerate(queue)]\n",
        "\n",
        "#     count = 0\n",
        "#     for i in range(n):\n",
        "#       if queue[m][1] <= queue[i][1]:\n",
        "#         count += 1\n",
        "#     print(count)\n",
        "\n"
      ],
      "metadata": {
        "colab": {
          "base_uri": "https://localhost:8080/"
        },
        "id": "L2rFWbcb8kR2",
        "outputId": "7ef2e625-0de1-4199-f89d-ac5d2b4051e5"
      },
      "execution_count": 24,
      "outputs": [
        {
          "output_type": "stream",
          "name": "stdout",
          "text": [
            "1\n",
            "6 0\n",
            "1 1 9 1 1 1\n",
            "6\n"
          ]
        }
      ]
    },
    {
      "cell_type": "code",
      "source": [
        ""
      ],
      "metadata": {
        "id": "73QIFNFe_Frn"
      },
      "execution_count": null,
      "outputs": []
    }
  ],
  "metadata": {
    "kernelspec": {
      "display_name": "Python 3",
      "language": "python",
      "name": "python3"
    },
    "language_info": {
      "codemirror_mode": {
        "name": "ipython",
        "version": 3
      },
      "file_extension": ".py",
      "mimetype": "text/x-python",
      "name": "python",
      "nbconvert_exporter": "python",
      "pygments_lexer": "ipython3",
      "version": "3.8.5"
    },
    "colab": {
      "name": "[큐] 하 1966.ipynb",
      "provenance": [],
      "collapsed_sections": []
    }
  },
  "nbformat": 4,
  "nbformat_minor": 0
}
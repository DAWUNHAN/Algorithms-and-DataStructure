{
  "nbformat": 4,
  "nbformat_minor": 0,
  "metadata": {
    "colab": {
      "name": "[그리디] 11047_1026.ipynb",
      "provenance": [],
      "authorship_tag": "ABX9TyOeXe0NRfPRtmeGcC7yQrUK",
      "include_colab_link": true
    },
    "kernelspec": {
      "name": "python3",
      "display_name": "Python 3"
    },
    "language_info": {
      "name": "python"
    }
  },
  "cells": [
    {
      "cell_type": "markdown",
      "metadata": {
        "id": "view-in-github",
        "colab_type": "text"
      },
      "source": [
        "<a href=\"https://colab.research.google.com/github/DAWUNHAN/algorithms-and-dataStructure/blob/master/%EB%B0%B1%EC%A4%80%20%EB%AC%B8%EC%A0%9C%ED%92%80%EC%9D%B4/%5B%EA%B7%B8%EB%A6%AC%EB%94%94%5D_11047_1026.ipynb\" target=\"_parent\"><img src=\"https://colab.research.google.com/assets/colab-badge.svg\" alt=\"Open In Colab\"/></a>"
      ]
    },
    {
      "cell_type": "code",
      "execution_count": 2,
      "metadata": {
        "colab": {
          "base_uri": "https://localhost:8080/"
        },
        "id": "EINjixlQuCID",
        "outputId": "079998d5-9873-4f46-857d-92bfb71ee401"
      },
      "outputs": [
        {
          "output_type": "stream",
          "name": "stdout",
          "text": [
            "10 4200\n",
            "1000 ********************\n",
            "100 ********************\n",
            "6\n",
            "0\n"
          ]
        }
      ],
      "source": [
        "# 백준 11047\n",
        "\n",
        "n, total = map(int, input().split())\n",
        "coins = [1,\n",
        "5,\n",
        "10,\n",
        "50,\n",
        "100,\n",
        "500,\n",
        "1000,\n",
        "5000,\n",
        "10000,\n",
        "50000]\n",
        "cnt = 0\n",
        "\n",
        "# for _ in range(n):\n",
        "#   coins.append(int(input()))\n",
        "\n",
        "for i in range(n-1, -1, -1):\n",
        "  if total//coins[i] >= 1:\n",
        "    divisor = total//coins[i]\n",
        "    total -= coins[i]*divisor\n",
        "    cnt+=divisor\n",
        "    # print(coins[i], '**'*10)\n",
        "\n",
        "print(cnt)\n",
        "print(total)"
      ]
    },
    {
      "cell_type": "code",
      "source": [
        "# 1026\n",
        "\n",
        "n = int(input())\n",
        "list_a = list(map(int, input().split()))\n",
        "list_b = list(map(int, input().split()))\n",
        "result = 0\n",
        "\n",
        "list_a = sorted(list_a, reverse=False)\n",
        "\n",
        "for i in range(n):\n",
        "  temp = max(list_b)\n",
        "  multi =  temp * list_a[i]\n",
        "  result += multi\n",
        "  list_b.pop(list_b.index(temp))\n",
        "\n",
        "print(result)"
      ],
      "metadata": {
        "colab": {
          "base_uri": "https://localhost:8080/"
        },
        "id": "1B1r1BBD1pW4",
        "outputId": "79d2d9ec-3cd7-4085-c42d-ddc8e1461753"
      },
      "execution_count": 3,
      "outputs": [
        {
          "output_type": "stream",
          "name": "stdout",
          "text": [
            "3\n",
            "1 1 3\n",
            "10 30 20\n",
            "80\n"
          ]
        }
      ]
    }
  ]
}
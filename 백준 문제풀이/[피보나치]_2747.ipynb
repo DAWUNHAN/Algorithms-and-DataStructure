{
  "nbformat": 4,
  "nbformat_minor": 0,
  "metadata": {
    "colab": {
      "name": "[피보나치] 2747.ipynb",
      "provenance": [],
      "authorship_tag": "ABX9TyM7HCIM9tA/KSuXOOmDcuLR",
      "include_colab_link": true
    },
    "kernelspec": {
      "name": "python3",
      "display_name": "Python 3"
    },
    "language_info": {
      "name": "python"
    }
  },
  "cells": [
    {
      "cell_type": "markdown",
      "metadata": {
        "id": "view-in-github",
        "colab_type": "text"
      },
      "source": [
        "<a href=\"https://colab.research.google.com/github/DAWUNHAN/algorithms-and-dataStructure/blob/master/%EB%B0%B1%EC%A4%80%20%EB%AC%B8%EC%A0%9C%ED%92%80%EC%9D%B4/%5B%ED%94%BC%EB%B3%B4%EB%82%98%EC%B9%98%5D_2747.ipynb\" target=\"_parent\"><img src=\"https://colab.research.google.com/assets/colab-badge.svg\" alt=\"Open In Colab\"/></a>"
      ]
    },
    {
      "cell_type": "code",
      "execution_count": 13,
      "metadata": {
        "colab": {
          "base_uri": "https://localhost:8080/"
        },
        "id": "qVDrgWXdyQnK",
        "outputId": "870de31d-0ead-4bfa-d925-dc3b820b61ca"
      },
      "outputs": [
        {
          "output_type": "stream",
          "name": "stdout",
          "text": [
            "10\n",
            "55\n"
          ]
        }
      ],
      "source": [
        "n = int(input())\n",
        "result = [0, 1]\n",
        "\n",
        "for i in range(2, n+1):\n",
        "  result.append(result[i-1] + result[i-2]) \n",
        "  \n",
        "print(result[-1])\n"
      ]
    }
  ]
}
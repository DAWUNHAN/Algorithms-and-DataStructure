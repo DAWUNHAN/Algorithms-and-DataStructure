{
  "cells": [
    {
      "cell_type": "markdown",
      "metadata": {
        "id": "view-in-github",
        "colab_type": "text"
      },
      "source": [
        "<a href=\"https://colab.research.google.com/github/DAWUNHAN/algorithms-and-dataStructure/blob/master/%EB%B0%B1%EC%A4%80%20%EB%AC%B8%EC%A0%9C%ED%92%80%EC%9D%B4/%5B%EB%B0%B0%EC%97%B4%5D_%ED%95%98_2920.ipynb\" target=\"_parent\"><img src=\"https://colab.research.google.com/assets/colab-badge.svg\" alt=\"Open In Colab\"/></a>"
      ]
    },
    {
      "cell_type": "markdown",
      "source": [
        "# 음계 문제\n",
        "- 난이도 : 하 \n",
        "- 문제 유형 : 배열, 구현\n",
        "- 추천 풀이 시간 : 15분\n",
        "- [문제 링크](https://www.acmicpc.net/problem/2920)\n",
        "- 문제 해설\n",
        "  - 숫자 1~8까지 여러 개를 입력 받았을 때, ascending/descending/mixed로 분류하는 문제\n",
        "  - 입력 예시 : `1 2 3 4 5 6 7 8`\n",
        "  - 출력 예시 : `ascending`"
      ],
      "metadata": {
        "id": "FfZHFfkATAfN"
      }
    },
    {
      "cell_type": "code",
      "execution_count": null,
      "metadata": {
        "id": "xxmxuC32S_Cp",
        "outputId": "d143e956-b130-4a38-934c-e55f63e5b513"
      },
      "outputs": [
        {
          "name": "stdout",
          "output_type": "stream",
          "text": [
            "2 5 19 4 2 6 9 8\n",
            "mixed\n"
          ]
        }
      ],
      "source": [
        "# 입력 받은 숫자들을 공백을 기준으로 리스트 안에 넣어 준다.\n",
        "data_list = list(map(int, input().split(' ')))\n",
        "\n",
        "# Boolean\n",
        "ascending = True\n",
        "descending = True\n",
        "\n",
        "for i in range(1, len(data_list)):\n",
        "    if data_list[i] > data_list[i-1]:\n",
        "        descending = False              # 해당 원소 보다 다음 원소 값이 커지면 descending일 수 없으므로 False\n",
        "    elif data_list[i] < data_list[i-1]:\n",
        "        ascending = False               # 해당 원소 보다 다음 원소 값이 작아지면 ascending 수 없으므로 False\n",
        "        \n",
        "if ascending:\n",
        "    print('ascending')\n",
        "elif descending:\n",
        "    print('descending')\n",
        "else:\n",
        "    print('mixed')"
      ]
    }
  ],
  "metadata": {
    "kernelspec": {
      "display_name": "Python 3",
      "language": "python",
      "name": "python3"
    },
    "language_info": {
      "codemirror_mode": {
        "name": "ipython",
        "version": 3
      },
      "file_extension": ".py",
      "mimetype": "text/x-python",
      "name": "python",
      "nbconvert_exporter": "python",
      "pygments_lexer": "ipython3",
      "version": "3.8.5"
    },
    "colab": {
      "name": "[배열] 하 - 2920.ipynb",
      "provenance": [],
      "collapsed_sections": [],
      "include_colab_link": true
    }
  },
  "nbformat": 4,
  "nbformat_minor": 0
}
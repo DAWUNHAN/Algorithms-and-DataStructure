{
 "cells": [
  {
   "cell_type": "markdown",
   "metadata": {},
   "source": [
    "## 문제 해설\n",
    "- 처음 입력된 수는 숫자 개수이다.\n",
    "- 2~n줄에는 숫자가 입력된다. \n",
    "- 숫자를 작은 숫자부터 순서대로 출력한다."
   ]
  },
  {
   "cell_type": "markdown",
   "metadata": {},
   "source": [
    "## 선택 정렬로 해결"
   ]
  },
  {
   "cell_type": "code",
   "execution_count": 20,
   "metadata": {},
   "outputs": [
    {
     "name": "stdout",
     "output_type": "stream",
     "text": [
      "3\n",
      "2\n",
      "10\n",
      "4\n",
      "2\n",
      "4\n",
      "10\n"
     ]
    }
   ],
   "source": [
    "n = int(input())\n",
    "num_list = list()\n",
    "\n",
    "for i in range(n):\n",
    "    num_list.append(int(input()))\n",
    "\n",
    "for i in range(n):\n",
    "    min_idx = i\n",
    "    for j in range (i+1, n):\n",
    "        if num_list[min_idx] > num_list[j]:\n",
    "            min_idx = j\n",
    "        num_list[i], num_list[min_idx] = num_list[min_idx], num_list[i]\n",
    "\n",
    "\n",
    "for i in range(n):\n",
    "    print(num_list[i])"
   ]
  },
  {
   "cell_type": "code",
   "execution_count": 21,
   "metadata": {},
   "outputs": [
    {
     "name": "stdout",
     "output_type": "stream",
     "text": [
      "3\n",
      "42\n",
      "10\n",
      "50\n",
      "10\n",
      "42\n",
      "50\n"
     ]
    }
   ],
   "source": [
    "n = int(input())\n",
    "num_list = list()\n",
    "\n",
    "for i in range(n):\n",
    "    num_list.append(int(input()))\n",
    "\n",
    "num_list.sort()\n",
    "\n",
    "\n",
    "for i in range(n):\n",
    "    print(num_list[i])"
   ]
  }
 ],
 "metadata": {
  "kernelspec": {
   "display_name": "Python 3",
   "language": "python",
   "name": "python3"
  },
  "language_info": {
   "codemirror_mode": {
    "name": "ipython",
    "version": 3
   },
   "file_extension": ".py",
   "mimetype": "text/x-python",
   "name": "python",
   "nbconvert_exporter": "python",
   "pygments_lexer": "ipython3",
   "version": "3.8.5"
  }
 },
 "nbformat": 4,
 "nbformat_minor": 4
}

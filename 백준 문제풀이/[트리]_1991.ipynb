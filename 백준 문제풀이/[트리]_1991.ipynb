{
  "nbformat": 4,
  "nbformat_minor": 0,
  "metadata": {
    "colab": {
      "name": "[트리] 1991.ipynb",
      "provenance": [],
      "authorship_tag": "ABX9TyPeKPCnSOfn9B4AHWkOMY+X",
      "include_colab_link": true
    },
    "kernelspec": {
      "name": "python3",
      "display_name": "Python 3"
    },
    "language_info": {
      "name": "python"
    }
  },
  "cells": [
    {
      "cell_type": "markdown",
      "metadata": {
        "id": "view-in-github",
        "colab_type": "text"
      },
      "source": [
        "<a href=\"https://colab.research.google.com/github/DAWUNHAN/algorithms-and-dataStructure/blob/master/%EB%B0%B1%EC%A4%80%20%EB%AC%B8%EC%A0%9C%ED%92%80%EC%9D%B4/%5B%ED%8A%B8%EB%A6%AC%5D_1991.ipynb\" target=\"_parent\"><img src=\"https://colab.research.google.com/assets/colab-badge.svg\" alt=\"Open In Colab\"/></a>"
      ]
    },
    {
      "cell_type": "code",
      "execution_count": null,
      "metadata": {
        "colab": {
          "base_uri": "https://localhost:8080/"
        },
        "id": "HjgzzMbvbYYm",
        "outputId": "1eea0b79-4ff6-4a9e-c223-73d52122b9fe"
      },
      "outputs": [
        {
          "output_type": "stream",
          "name": "stdout",
          "text": [
            "7\n",
            "a b c\n",
            "b d .\n",
            "c e f\n",
            "e . .\n",
            "f . g\n",
            "d . .\n",
            "g . .\n",
            "abdcefgdbaecfgdbegfca"
          ]
        }
      ],
      "source": [
        "class Node:\n",
        "  def __init__(self, data, left_node, right_node):\n",
        "    self.data = data\n",
        "    self.left_node = left_node\n",
        "    self.right_node = right_node\n",
        "\n",
        "def pre_order(node):\n",
        "  print(node.data, end='')\n",
        "  if node.left_node != '.':\n",
        "    pre_order(tree[node.left_node])\n",
        "  if node.right_node != '.':\n",
        "    pre_order(tree[node.right_node])\n",
        "\n",
        "def in_order(node):\n",
        "  if node.left_node != '.':\n",
        "    in_order(tree[node.left_node])\n",
        "  print(node.data, end='')\n",
        "  if node.right_node != '.':\n",
        "    in_order(tree[node.right_node])\n",
        "\n",
        "def post_order(node):\n",
        "  if node.left_node != '.':\n",
        "    post_order(tree[node.left_node])\n",
        "  if node.right_node != '.':\n",
        "    post_order(tree[node.right_node])\n",
        "  print(node.data, end='')\n",
        "\n",
        "n = int(input())\n",
        "tree = {}\n",
        "\n",
        "for i in range(n):\n",
        "  data, left_node, right_node = input().split()\n",
        "  tree[data] = Node(data, left_node, right_node)\n",
        "  if i==0:\n",
        "    first = data\n",
        "\n",
        "pre_order(tree[first])\n",
        "print()\n",
        "in_order(tree[first])\n",
        "print()\n",
        "post_order(tree[first])"
      ]
    },
    {
      "cell_type": "code",
      "source": [
        "tree['a'].left_node"
      ],
      "metadata": {
        "colab": {
          "base_uri": "https://localhost:8080/",
          "height": 35
        },
        "id": "7Ky67GINeP7H",
        "outputId": "ffbb9e56-f654-424d-b550-9f689135585f"
      },
      "execution_count": null,
      "outputs": [
        {
          "output_type": "execute_result",
          "data": {
            "application/vnd.google.colaboratory.intrinsic+json": {
              "type": "string"
            },
            "text/plain": [
              "'b'"
            ]
          },
          "metadata": {},
          "execution_count": 16
        }
      ]
    },
    {
      "cell_type": "code",
      "source": [
        ""
      ],
      "metadata": {
        "id": "I8O12Dn7ehV3"
      },
      "execution_count": null,
      "outputs": []
    }
  ]
}
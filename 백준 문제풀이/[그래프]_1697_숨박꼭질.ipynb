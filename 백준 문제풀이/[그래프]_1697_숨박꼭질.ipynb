{
  "nbformat": 4,
  "nbformat_minor": 0,
  "metadata": {
    "colab": {
      "name": "[그래프] 1697 숨박꼭질.ipynb",
      "provenance": [],
      "authorship_tag": "ABX9TyPNtupffomgPxU5C2AAYLow",
      "include_colab_link": true
    },
    "kernelspec": {
      "name": "python3",
      "display_name": "Python 3"
    },
    "language_info": {
      "name": "python"
    }
  },
  "cells": [
    {
      "cell_type": "markdown",
      "metadata": {
        "id": "view-in-github",
        "colab_type": "text"
      },
      "source": [
        "<a href=\"https://colab.research.google.com/github/DAWUNHAN/algorithms-and-dataStructure/blob/master/%EB%B0%B1%EC%A4%80%20%EB%AC%B8%EC%A0%9C%ED%92%80%EC%9D%B4/%5B%EA%B7%B8%EB%9E%98%ED%94%84%5D_1697_%EC%88%A8%EB%B0%95%EA%BC%AD%EC%A7%88.ipynb\" target=\"_parent\"><img src=\"https://colab.research.google.com/assets/colab-badge.svg\" alt=\"Open In Colab\"/></a>"
      ]
    },
    {
      "cell_type": "code",
      "execution_count": 8,
      "metadata": {
        "colab": {
          "base_uri": "https://localhost:8080/"
        },
        "id": "klLiFlZozbtA",
        "outputId": "4b896a9c-38f5-49ad-ee7a-c24ce822cdf6"
      },
      "outputs": [
        {
          "output_type": "stream",
          "name": "stdout",
          "text": [
            "5 17\n",
            "4\n"
          ]
        }
      ],
      "source": [
        "from collections import deque\n",
        "\n",
        "x, target = map(int, input().split())\n",
        "\n",
        "MAX = 100001\n",
        "array = [0] * MAX\n",
        "\n",
        "def bfs():\n",
        "  q = deque([x])\n",
        "  while q:\n",
        "    now = q.popleft()\n",
        "    if now == target:\n",
        "      return array[now]\n",
        "    for next in (now-1, now+1, now*2):\n",
        "      if 0 <= next < MAX and not array[next]:\n",
        "        array[next] = array[now]+1\n",
        "        q.append(next)\n",
        "\n",
        "print(bfs())\n"
      ]
    },
    {
      "cell_type": "code",
      "source": [
        "from collections import deque\n",
        "\n",
        "n, k = map(int, input().split())\n",
        "MAX = 100001\n",
        "array = [0] * MAX\n",
        "\n",
        "def bfs():\n",
        "  q = deque([n])\n",
        "  while q:\n",
        "    now = q.popleft()\n",
        "    if now == k:\n",
        "      return array[now]\n",
        "    for next in (now-1, now+1, now*2):\n",
        "      if 0<=next<MAX and not array[next]:\n",
        "        array[next] = array[now] + 1\n",
        "        q.append(next)\n",
        "\n",
        "print(bfs())"
      ],
      "metadata": {
        "colab": {
          "base_uri": "https://localhost:8080/"
        },
        "id": "mS3pT9dN6AiD",
        "outputId": "5af30f5c-184b-4128-e821-08599a1386a6"
      },
      "execution_count": 12,
      "outputs": [
        {
          "output_type": "stream",
          "name": "stdout",
          "text": [
            "5 12\n",
            "2\n"
          ]
        }
      ]
    }
  ]
}
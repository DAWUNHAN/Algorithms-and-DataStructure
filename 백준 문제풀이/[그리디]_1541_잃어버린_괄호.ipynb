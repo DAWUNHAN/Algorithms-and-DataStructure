{
  "nbformat": 4,
  "nbformat_minor": 0,
  "metadata": {
    "colab": {
      "name": "[그리디] 1541 잃어버린 괄호.ipynb",
      "provenance": [],
      "collapsed_sections": [],
      "authorship_tag": "ABX9TyPSZe3QOA+88OI8dpUKwMVt",
      "include_colab_link": true
    },
    "kernelspec": {
      "name": "python3",
      "display_name": "Python 3"
    },
    "language_info": {
      "name": "python"
    }
  },
  "cells": [
    {
      "cell_type": "markdown",
      "metadata": {
        "id": "view-in-github",
        "colab_type": "text"
      },
      "source": [
        "<a href=\"https://colab.research.google.com/github/DAWUNHAN/algorithms-and-dataStructure/blob/master/%EB%B0%B1%EC%A4%80%20%EB%AC%B8%EC%A0%9C%ED%92%80%EC%9D%B4/%5B%EA%B7%B8%EB%A6%AC%EB%94%94%5D_1541_%EC%9E%83%EC%96%B4%EB%B2%84%EB%A6%B0_%EA%B4%84%ED%98%B8.ipynb\" target=\"_parent\"><img src=\"https://colab.research.google.com/assets/colab-badge.svg\" alt=\"Open In Colab\"/></a>"
      ]
    },
    {
      "cell_type": "markdown",
      "source": [
        "# 문제 1541\n",
        "- [백준 문제 확인](https://www.acmicpc.net/problem/1541)\n",
        "- 문제 해설 : '55-50+40'와 같은 형태로 수식을 입력 받았을 때, 괄호를 넣어서 최소한의 값으로 만든다. \n",
        "- 힌트 : 최소한의 값을 만드는 것이므로, 최대한 많이 빼줘야 한다. 즉, '-'를 기준으로 나눈 뒤, 값을 뺀다. \n",
        "- 주의할 점 : 숫자에 001, 0010과 같이 앞에 0이 붙은 채로 입력될 수 있다. 이런 경우 eval 계산이 안된다. \n",
        "- 사용하는 method : eval(수식 계산), lstrip(주어진 글자가 앞에 나온 경우 그 숫자를 지운다).  \n",
        "\n",
        "`'1001'.lstrip('1')`의 결과 => 001\n",
        "`'001'.lsrtip('0')`의 결과 => 1"
      ],
      "metadata": {
        "id": "jg2u_WxiMSEL"
      }
    },
    {
      "cell_type": "code",
      "source": [
        "'1001'.lstrip('1')"
      ],
      "metadata": {
        "colab": {
          "base_uri": "https://localhost:8080/",
          "height": 35
        },
        "id": "ttR0DjsrM7wO",
        "outputId": "519892c5-4815-4c0e-ad5f-043a9dcc45a9"
      },
      "execution_count": 35,
      "outputs": [
        {
          "output_type": "execute_result",
          "data": {
            "application/vnd.google.colaboratory.intrinsic+json": {
              "type": "string"
            },
            "text/plain": [
              "'001'"
            ]
          },
          "metadata": {},
          "execution_count": 35
        }
      ]
    },
    {
      "cell_type": "code",
      "source": [
        "n = input()\n",
        "ans = n.split('-')                        # '-'를 기준으로 덩어리를 나눈 뒤, 괄호를 넣는다고 생각한다. \n",
        "\n",
        "for i in range(len(ans)):\n",
        "  ans_sub = ans[i].split('+')             # 나눈 덩어리 안에 + 수식이 있을 수 있다. 이를 다시 또 나눈다. (001과 같은 경우를 위해 lstrip을 해야하므로)\n",
        "  sub_sum = 0\n",
        "  for j in range(len(ans_sub)):\n",
        "    sub_sum += int(ans_sub[j].lstrip('0'))  # 앞에 0이 나와있다면 0은 제거 한 뒤, int형으로 바꾼다.\n",
        "  \n",
        "  if i == 0:                              # 맨 첫 번째 덩어리의 경우\n",
        "    result = sub_sum\n",
        "  else:                                   # 맨 첫 번째 덩어리에서 그 다음 덩어리들을 각 각 빼준다. (최소값으로 만들기 위해)\n",
        "    result -= sub_sum\n",
        "\n",
        "print(result)"
      ],
      "metadata": {
        "colab": {
          "base_uri": "https://localhost:8080/"
        },
        "id": "edV66ue6RDEX",
        "outputId": "0c0e3ebb-6961-4351-8edd-455f0278af07"
      },
      "execution_count": 29,
      "outputs": [
        {
          "output_type": "stream",
          "name": "stdout",
          "text": [
            "0010+00020-30+40\n",
            "-40\n"
          ]
        }
      ]
    }
  ]
}
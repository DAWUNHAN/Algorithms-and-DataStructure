{
  "nbformat": 4,
  "nbformat_minor": 0,
  "metadata": {
    "colab": {
      "name": "[그래프] 1012_유기농 배추.ipynb",
      "provenance": [],
      "authorship_tag": "ABX9TyNZb3XD/T+V0lg3/fhIyHu9",
      "include_colab_link": true
    },
    "kernelspec": {
      "name": "python3",
      "display_name": "Python 3"
    },
    "language_info": {
      "name": "python"
    }
  },
  "cells": [
    {
      "cell_type": "markdown",
      "metadata": {
        "id": "view-in-github",
        "colab_type": "text"
      },
      "source": [
        "<a href=\"https://colab.research.google.com/github/DAWUNHAN/algorithms-and-dataStructure/blob/master/%EB%B0%B1%EC%A4%80%20%EB%AC%B8%EC%A0%9C%ED%92%80%EC%9D%B4/%5B%EA%B7%B8%EB%9E%98%ED%94%84%5D_1012_%EC%9C%A0%EA%B8%B0%EB%86%8D_%EB%B0%B0%EC%B6%94.ipynb\" target=\"_parent\"><img src=\"https://colab.research.google.com/assets/colab-badge.svg\" alt=\"Open In Colab\"/></a>"
      ]
    },
    {
      "cell_type": "code",
      "execution_count": 8,
      "metadata": {
        "colab": {
          "base_uri": "https://localhost:8080/"
        },
        "id": "tBRSSsDyB3eC",
        "outputId": "a66bf34d-6e38-4aa3-dc6b-3f1670d6b7d2"
      },
      "outputs": [
        {
          "output_type": "stream",
          "name": "stdout",
          "text": [
            "1\n",
            "10 18 17\n",
            "0 0\n",
            "1 0\n",
            "1 1\n",
            "4 2\n",
            "4 3\n",
            "2 4\n",
            "3 4\n",
            "4 5\n",
            "7 4\n",
            "8 4\n",
            "9 4\n",
            "7 5\n",
            "8 5\n",
            "9 5\n",
            "7 6\n",
            "8 6\n",
            "9 6\n",
            "5\n"
          ]
        }
      ],
      "source": [
        "import sys\n",
        "sys.setrecursionlimit(100000)\n",
        "\n",
        "def dfs(x, y):\n",
        "  visited[x][y] = True\n",
        "  directions = [(-1, 0), (1, 0), (0, -1), (0, 1)]\n",
        "  for dx, dy in directions:\n",
        "    nx, ny = x+dx, y+dy\n",
        "    if nx<0 or nx>=n or ny>=m or ny<0:\n",
        "      continue\n",
        "    if cabbage[nx][ny] and not visited[nx][ny]:\n",
        "      dfs(nx, ny)\n",
        "\n",
        "\n",
        "for _ in range(int(input())):\n",
        "  m, n, k = map(int, input().split())\n",
        "  cabbage = [[0]*m for _ in range(n)]\n",
        "  visited = [[False]*m for _ in range(n)]\n",
        "\n",
        "  for _ in range(k):\n",
        "    coor_y, coor_x = map(int, input().split())\n",
        "    cabbage[coor_x][coor_y] = 1\n",
        "\n",
        "  result = 0\n",
        "\n",
        "  for i in range(n):\n",
        "    for j in range(m):\n",
        "      if cabbage[i][j] and not visited[i][j]:\n",
        "        dfs(i, j)\n",
        "        result += 1\n",
        "\n",
        "  print(result)"
      ]
    }
  ]
}
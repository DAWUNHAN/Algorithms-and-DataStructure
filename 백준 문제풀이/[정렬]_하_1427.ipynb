{
  "cells": [
    {
      "cell_type": "markdown",
      "metadata": {
        "id": "EaV7eRYcu7D8"
      },
      "source": [
        "## 문제 설명\n",
        "- 입력 받은 숫자를 내림차순으로 정렬\n",
        "- [문제](https://www.acmicpc.net/problem/1427)"
      ]
    },
    {
      "cell_type": "code",
      "execution_count": null,
      "metadata": {
        "id": "kzNfIWccu7EB",
        "outputId": "55a7e4b8-b9dd-4744-e456-ef3dce87a5ef"
      },
      "outputs": [
        {
          "name": "stdout",
          "output_type": "stream",
          "text": [
            "394842\n",
            "984432"
          ]
        }
      ],
      "source": [
        "array = input() \n",
        "for i in range(9, -1, -1):      # 9, 8,..., 1, 0 까지 순서대로 i\n",
        "    for j in array:             # array가 입력 받은 순서대로 j        \n",
        "        if int(j) == i:         # 9~0 까지 순서대로 일치하는가 확인\n",
        "            print(i, end='')"
      ]
    }
  ],
  "metadata": {
    "kernelspec": {
      "display_name": "Python 3",
      "language": "python",
      "name": "python3"
    },
    "language_info": {
      "codemirror_mode": {
        "name": "ipython",
        "version": 3
      },
      "file_extension": ".py",
      "mimetype": "text/x-python",
      "name": "python",
      "nbconvert_exporter": "python",
      "pygments_lexer": "ipython3",
      "version": "3.8.5"
    },
    "colab": {
      "name": "[정렬] 하 1427.ipynb",
      "provenance": [],
      "collapsed_sections": []
    }
  },
  "nbformat": 4,
  "nbformat_minor": 0
}
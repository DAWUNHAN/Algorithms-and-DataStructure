{
  "cells": [
    {
      "cell_type": "markdown",
      "metadata": {
        "id": "-ZeVMbC2Cv8W"
      },
      "source": [
        "## 문제 해설\n",
        "- 처음 입력된 수는 숫자 개수이다.\n",
        "- 2~n줄에는 숫자가 입력된다. \n",
        "- 숫자를 작은 숫자부터 순서대로 출력한다.\n",
        "- [문제](https://www.acmicpc.net/problem/2750)\n",
        "\n",
        "## 선택 정렬\n",
        "- 기준과 그 외 value를 비교한 뒤 기준이 작으면 서로 자리 체인지. \n",
        "예를 들어,\n",
        "```\n",
        "7, 5, 9, 3, 4 # 이 때 7과 그 외의 5, 9, 3, 4를 비교\n",
        "3, 5, 9, 7, 4 # 3 제외하고, 4를 기준으로 해서 나머지 비교\n",
        "3, 4, 9, 7, 5\n",
        "3, 4, 5, 7, 9\n",
        "```"
      ]
    },
    {
      "cell_type": "markdown",
      "metadata": {
        "id": "gbX6Gt0bCv8b"
      },
      "source": [
        "## 선택 정렬로 해결"
      ]
    },
    {
      "cell_type": "code",
      "source": [
        "n = int(input())\n",
        "num_list = list()\n",
        "\n",
        "for i in range(n):\n",
        "  num_list.append(int(input()))\n",
        "\n",
        "for i in range(n):\n",
        "    min_idx = i                                                           # 기준 인덱스\n",
        "    for j in range (i+1, n):                                              # 기준을 제외하고 나머지 인덱스\n",
        "        if num_list[min_idx] > num_list[j]:                               # 기준이 더 크다면 서로 교체\n",
        "            min_idx = j\n",
        "        num_list[i], num_list[min_idx] = num_list[min_idx], num_list[i]   # 더 작은 경우에는 i, min_idx 같음.\n",
        "\n",
        "\n",
        "for i in range(n):\n",
        "  print(num_list[i])\n"
      ],
      "metadata": {
        "colab": {
          "base_uri": "https://localhost:8080/"
        },
        "id": "koh3hRXWDB_J",
        "outputId": "1d38da70-ad03-4f3d-956a-28e6bf663451"
      },
      "execution_count": 10,
      "outputs": [
        {
          "output_type": "stream",
          "name": "stdout",
          "text": [
            "3\n",
            "48\n",
            "2\n",
            "300\n",
            "2\n",
            "48\n",
            "300\n"
          ]
        }
      ]
    },
    {
      "cell_type": "code",
      "execution_count": 9,
      "metadata": {
        "colab": {
          "base_uri": "https://localhost:8080/"
        },
        "id": "cGr8RRI7Cv8e",
        "outputId": "250ac96b-75e3-4ced-bf9b-0ccf92d35704"
      },
      "outputs": [
        {
          "output_type": "stream",
          "name": "stdout",
          "text": [
            "4\n",
            "20\n",
            "29\n",
            "3\n",
            "4\n",
            "3\n",
            "4\n",
            "20\n",
            "29\n"
          ]
        }
      ],
      "source": [
        "n = int(input())\n",
        "num_list = list()\n",
        "\n",
        "for i in range(n):\n",
        "    num_list.append(int(input()))\n",
        "\n",
        "num_list.sort()\n",
        "\n",
        "\n",
        "for i in range(n):\n",
        "    print(num_list[i])"
      ]
    }
  ],
  "metadata": {
    "kernelspec": {
      "display_name": "Python 3",
      "language": "python",
      "name": "python3"
    },
    "language_info": {
      "codemirror_mode": {
        "name": "ipython",
        "version": 3
      },
      "file_extension": ".py",
      "mimetype": "text/x-python",
      "name": "python",
      "nbconvert_exporter": "python",
      "pygments_lexer": "ipython3",
      "version": "3.8.5"
    },
    "colab": {
      "name": "[정렬] 하 2750 수 정렬.ipynb",
      "provenance": [],
      "collapsed_sections": []
    }
  },
  "nbformat": 4,
  "nbformat_minor": 0
}
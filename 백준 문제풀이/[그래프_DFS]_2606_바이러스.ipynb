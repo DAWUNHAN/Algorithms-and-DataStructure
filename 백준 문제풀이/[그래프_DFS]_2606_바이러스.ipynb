{
  "nbformat": 4,
  "nbformat_minor": 0,
  "metadata": {
    "colab": {
      "name": "[그래프_DFS] 2606 바이러스.ipynb",
      "provenance": [],
      "authorship_tag": "ABX9TyPtkDmXL+JmP3qA+/Fa0mts",
      "include_colab_link": true
    },
    "kernelspec": {
      "name": "python3",
      "display_name": "Python 3"
    },
    "language_info": {
      "name": "python"
    }
  },
  "cells": [
    {
      "cell_type": "markdown",
      "metadata": {
        "id": "view-in-github",
        "colab_type": "text"
      },
      "source": [
        "<a href=\"https://colab.research.google.com/github/DAWUNHAN/algorithms-and-dataStructure/blob/master/%EB%B0%B1%EC%A4%80%20%EB%AC%B8%EC%A0%9C%ED%92%80%EC%9D%B4/%5B%EA%B7%B8%EB%9E%98%ED%94%84_DFS%5D_2606_%EB%B0%94%EC%9D%B4%EB%9F%AC%EC%8A%A4.ipynb\" target=\"_parent\"><img src=\"https://colab.research.google.com/assets/colab-badge.svg\" alt=\"Open In Colab\"/></a>"
      ]
    },
    {
      "cell_type": "code",
      "source": [
        "com = int(input())\n",
        "n = int(input())\n",
        "computers = [[] for _ in range(com+1)]\n",
        "visited = [False] * (com+1)\n",
        "result = 0\n",
        "\n",
        "for _ in range(n):\n",
        "  origin, connected = map(int, input().split())\n",
        "  computers[origin].append(connected)\n",
        "  computers[connected].append(origin)\n",
        "\n",
        "def dfs(now):\n",
        "  global result\n",
        "  result +=1 \n",
        "  visited[now] = True\n",
        "  for next in computers[now]:\n",
        "    if not visited[next]:\n",
        "      dfs(next)\n",
        "\n",
        "dfs(1)\n",
        "print(result-1)"
      ],
      "metadata": {
        "colab": {
          "base_uri": "https://localhost:8080/"
        },
        "id": "evaw5BwW8u9K",
        "outputId": "3241d4fe-24d2-4c39-f04e-fc3ad2e48931"
      },
      "execution_count": 8,
      "outputs": [
        {
          "output_type": "stream",
          "name": "stdout",
          "text": [
            "7\n",
            "6\n",
            "1 2\n",
            "1 5\n",
            "2 5\n",
            "2 3\n",
            "5 6\n",
            "4 7\n",
            "4\n"
          ]
        }
      ]
    }
  ]
}
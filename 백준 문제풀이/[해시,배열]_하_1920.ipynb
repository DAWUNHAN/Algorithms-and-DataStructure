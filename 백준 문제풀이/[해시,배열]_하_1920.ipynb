{
  "cells": [
    {
      "cell_type": "markdown",
      "metadata": {
        "id": "UCYJl5UAZT5u"
      },
      "source": [
        "## [백준] 1920 수 찾기\n",
        "\n",
        "- 문제: 두 개의 group이 있을 때 group1에 group2 원소가 존재하는가.\n",
        "      5\n",
        "      4 1 5 2 3\n",
        "      5\n",
        "      1 3 7 9 5\n",
        "\n",
        "  이 경우 group1=[4, 1, 5, 2, 3], group2=[1, 3, 7, 9, 5]이며, \n",
        "  group2의 원소는 각 각 group1에 [존재, 존재, x, x, 존재] 하므로 결과는 다음과 같다.\n",
        "\n",
        "      1 \n",
        "      1 \n",
        "      0 \n",
        "      0 \n",
        "      1\n",
        "  \n",
        "- 힌트: set 자료형은 중복이 허용되지 않는 집합이다. \n",
        "- 리스트 []\n",
        "- 튜플 () 값을 바꿀 수 없다.\n",
        "- 딕셔너리 {key1:value1, key2:value2,..}\n",
        "- 집합 set {} 중복값이 없다.\n",
        "- [문제](https://www.acmicpc.net/problem/1920)"
      ]
    },
    {
      "cell_type": "code",
      "source": [
        "n = int(input())\n",
        "group1 = set(map(int, input().split()))\n",
        "\n",
        "m = int(input())\n",
        "group2 = list(map(int, input().split()))\n",
        "\n",
        "for i in group2:\n",
        "  if i not in group1:\n",
        "    print('0')\n",
        "  else:\n",
        "    print('1')"
      ],
      "metadata": {
        "colab": {
          "base_uri": "https://localhost:8080/"
        },
        "id": "8ufEVQu_a1u6",
        "outputId": "f18c4b07-df8d-4286-bbe8-52d77dde737e"
      },
      "execution_count": 9,
      "outputs": [
        {
          "output_type": "stream",
          "name": "stdout",
          "text": [
            "5\n",
            "4 1 5 2 3\n",
            "5\n",
            "1 3 7 9 5\n",
            "1\n",
            "1\n",
            "0\n",
            "0\n",
            "1\n"
          ]
        }
      ]
    }
  ],
  "metadata": {
    "kernelspec": {
      "display_name": "Python 3",
      "language": "python",
      "name": "python3"
    },
    "language_info": {
      "codemirror_mode": {
        "name": "ipython",
        "version": 3
      },
      "file_extension": ".py",
      "mimetype": "text/x-python",
      "name": "python",
      "nbconvert_exporter": "python",
      "pygments_lexer": "ipython3",
      "version": "3.8.5"
    },
    "colab": {
      "name": "[해시, 배열] 하 1920.ipynb",
      "provenance": [],
      "collapsed_sections": []
    }
  },
  "nbformat": 4,
  "nbformat_minor": 0
}
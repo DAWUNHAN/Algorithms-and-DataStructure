{
  "nbformat": 4,
  "nbformat_minor": 0,
  "metadata": {
    "colab": {
      "name": "[정렬] 11399.ipynb",
      "provenance": [],
      "authorship_tag": "ABX9TyM4IFRWb3IlZz8wkAD9MpPN",
      "include_colab_link": true
    },
    "kernelspec": {
      "name": "python3",
      "display_name": "Python 3"
    },
    "language_info": {
      "name": "python"
    }
  },
  "cells": [
    {
      "cell_type": "markdown",
      "metadata": {
        "id": "view-in-github",
        "colab_type": "text"
      },
      "source": [
        "<a href=\"https://colab.research.google.com/github/DAWUNHAN/algorithms-and-dataStructure/blob/master/%EB%B0%B1%EC%A4%80%20%EB%AC%B8%EC%A0%9C%ED%92%80%EC%9D%B4/%5B%EC%A0%95%EB%A0%AC%5D_11399.ipynb\" target=\"_parent\"><img src=\"https://colab.research.google.com/assets/colab-badge.svg\" alt=\"Open In Colab\"/></a>"
      ]
    },
    {
      "cell_type": "code",
      "execution_count": 8,
      "metadata": {
        "colab": {
          "base_uri": "https://localhost:8080/"
        },
        "id": "Pmih1gxXmVKD",
        "outputId": "133158cd-06e0-464c-c026-fbb0a23d3453"
      },
      "outputs": [
        {
          "output_type": "stream",
          "name": "stdout",
          "text": [
            "5\n",
            "3 1 4 3 2\n",
            "32\n"
          ]
        }
      ],
      "source": [
        "n = int(input())\n",
        "people = list(map(int, input().split()))\n",
        "result = 0\n",
        "\n",
        "people.sort()\n",
        "\n",
        "for i in range(n+1):\n",
        "  for j in range(i):\n",
        "    result += people[j]\n",
        "    #print(people[j])\n",
        "\n",
        "print(result)"
      ]
    }
  ]
}
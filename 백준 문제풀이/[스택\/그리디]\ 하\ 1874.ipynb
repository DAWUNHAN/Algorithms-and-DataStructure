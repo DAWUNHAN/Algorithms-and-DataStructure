{
  "cells": [
    {
      "cell_type": "markdown",
      "metadata": {
        "id": "view-in-github",
        "colab_type": "text"
      },
      "source": [
        "<a href=\"https://colab.research.google.com/github/DAWUNHAN/algorithms-and-dataStructure/blob/master/%EB%B0%B1%EC%A4%80%20%EB%AC%B8%EC%A0%9C%ED%92%80%EC%9D%B4/%5B%EC%8A%A4%ED%83%9D%5C/%EA%B7%B8%EB%A6%AC%EB%94%94%5D%5C%20%ED%95%98%5C%201874.ipynb\" target=\"_parent\"><img src=\"https://colab.research.google.com/assets/colab-badge.svg\" alt=\"Open In Colab\"/></a>"
      ]
    },
    {
      "cell_type": "markdown",
      "metadata": {
        "id": "CaWzF9DbvjVj"
      },
      "source": [
        "## 스택 수열\n",
        "\n",
        "- 유형: 스택, 그리디\n",
        "- 난이도: 하\n",
        "- 스택에 push 할 때는 그 숫자를 넣을 때까지 삽입하면 된다. (예를 들어, 4를 넣고자 하면 1, 2, 3, 4를 넣는다).\n",
        "- 스택에서 pop 하는 경우, 내림차순으로 빼낼 수 있는지 확인해야 한다.\n",
        "- [백준 문제](https://www.acmicpc.net/problem/1874)"
      ]
    },
    {
      "cell_type": "code",
      "execution_count": 1,
      "metadata": {
        "id": "n7x6gN0xvjVl",
        "colab": {
          "base_uri": "https://localhost:8080/"
        },
        "outputId": "8b18ce89-4493-46f5-9bac-7496eab74588"
      },
      "outputs": [
        {
          "output_type": "stream",
          "name": "stdout",
          "text": [
            "8\n",
            "4\n",
            "3\n",
            "6\n",
            "8\n",
            "7\n",
            "5\n",
            "2\n",
            "1\n",
            "+\n",
            "+\n",
            "+\n",
            "+\n",
            "-\n",
            "-\n",
            "+\n",
            "+\n",
            "-\n",
            "+\n",
            "+\n",
            "-\n",
            "-\n",
            "-\n",
            "-\n",
            "-\n"
          ]
        }
      ],
      "source": [
        "n = int(input()) # 몇 개의 수를 입력받는가.\n",
        "\n",
        "count = 1   # 입력 받은 수와 비교할 숫자\n",
        "stack = []  # 스택에 쌓이는 숫자들\n",
        "result = [] # 결과 +, - 값들\n",
        "\n",
        "for i in range(1, n + 1):   # 총 n개의 숫자를 입력 받으므로, 그 범위 내에서 for 문 동작\n",
        "    data = int(input())     # 입력 받은 숫자 (예를 들어, 3을 입력 받으면 스택에 1, 2, 3을 넣은 뒤(+,+,+), 3을 빼낸다 (-))\n",
        "    while count <= data: \n",
        "        stack.append(count)\n",
        "        count += 1\n",
        "        result.append('+')\n",
        "    if stack[-1] == data:   # 맨 마지막에 스택에 들어간 숫자가 입력 받은 숫자와 동일 하다면, 그대로 꺼내면 된다. \n",
        "        stack.pop()\n",
        "        result.append('-')\n",
        "    else:                   # 둘 다 해당 안되는 경우는 NO를 출력하고, 그 다음 숫자를 입력 받는다. \n",
        "        print('NO')\n",
        "        exit(0)\n",
        "\n",
        "print('\\n'.join(result)) "
      ]
    }
  ],
  "metadata": {
    "kernelspec": {
      "display_name": "Python 3",
      "language": "python",
      "name": "python3"
    },
    "language_info": {
      "codemirror_mode": {
        "name": "ipython",
        "version": 3
      },
      "file_extension": ".py",
      "mimetype": "text/x-python",
      "name": "python",
      "nbconvert_exporter": "python",
      "pygments_lexer": "ipython3",
      "version": "3.8.5"
    },
    "colab": {
      "name": "[스택/그리디] 하 1874.ipynb",
      "provenance": [],
      "collapsed_sections": [],
      "include_colab_link": true
    }
  },
  "nbformat": 4,
  "nbformat_minor": 0
}
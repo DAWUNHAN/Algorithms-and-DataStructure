{
  "nbformat": 4,
  "nbformat_minor": 0,
  "metadata": {
    "colab": {
      "name": "[그래프] 1325 효율적인 해킹.ipynb",
      "provenance": [],
      "authorship_tag": "ABX9TyNWHgXBveo5ucrEFOxWTAKn",
      "include_colab_link": true
    },
    "kernelspec": {
      "name": "python3",
      "display_name": "Python 3"
    },
    "language_info": {
      "name": "python"
    }
  },
  "cells": [
    {
      "cell_type": "markdown",
      "metadata": {
        "id": "view-in-github",
        "colab_type": "text"
      },
      "source": [
        "<a href=\"https://colab.research.google.com/github/DAWUNHAN/algorithms-and-dataStructure/blob/master/%EB%B0%B1%EC%A4%80%20%EB%AC%B8%EC%A0%9C%ED%92%80%EC%9D%B4/%5B%EA%B7%B8%EB%9E%98%ED%94%84%5D_1325_%ED%9A%A8%EC%9C%A8%EC%A0%81%EC%9D%B8_%ED%95%B4%ED%82%B9.ipynb\" target=\"_parent\"><img src=\"https://colab.research.google.com/assets/colab-badge.svg\" alt=\"Open In Colab\"/></a>"
      ]
    },
    {
      "cell_type": "code",
      "source": [
        "# 정답 (PyPy3로 해야 시간 초과 안 나온다)\n",
        "from collections import deque\n",
        "\n",
        "n, m = map(int, input().split())\n",
        "com = [ [] for _ in range(n+1)]\n",
        "\n",
        "for i in range(m):\n",
        "  x, y = map(int, input().split())\n",
        "  com[y].append(x)\n",
        "\n",
        "def bfs(v):\n",
        "  q = deque([v])\n",
        "  visited = [False] * (n+1)\n",
        "  visited[v] = True\n",
        "  count = 1\n",
        "  while q:\n",
        "    v = q.popleft()\n",
        "    for e in com[v]:\n",
        "      if not visited[e]:\n",
        "        q.append(e)\n",
        "        visited[e]= True\n",
        "        count += 1\n",
        "  return count\n",
        "\n",
        "result = []\n",
        "max_value = -1\n",
        "\n",
        "for i in range(1, n+1):\n",
        "  c = bfs(i)\n",
        "  if c > max_value:\n",
        "    result = [i]\n",
        "    max_value = c\n",
        "  elif c == max_value:\n",
        "    result.append(i)\n",
        "    max_value = c\n",
        "\n",
        "for e in result:\n",
        "  print(e, end=\" \")"
      ],
      "metadata": {
        "colab": {
          "base_uri": "https://localhost:8080/"
        },
        "id": "gdBDaaA9P6b1",
        "outputId": "a7891cc9-400f-4ccc-8351-3fd8fad5b12d"
      },
      "execution_count": 18,
      "outputs": [
        {
          "output_type": "stream",
          "name": "stdout",
          "text": [
            "5 4\n",
            "3 1\n",
            "3 2\n",
            "4 3\n",
            "5 3\n",
            "1 2 "
          ]
        }
      ]
    },
    {
      "cell_type": "code",
      "execution_count": 11,
      "metadata": {
        "colab": {
          "base_uri": "https://localhost:8080/"
        },
        "id": "7msrPwy1LrSC",
        "outputId": "8e755557-fe36-4b10-a282-4c662af0e70e"
      },
      "outputs": [
        {
          "output_type": "stream",
          "name": "stdout",
          "text": [
            "5 4\n",
            "3 1\n",
            "3 2\n",
            "4 3\n",
            "5 3\n",
            "1 2 "
          ]
        }
      ],
      "source": [
        "# 시간 초과\n",
        "\n",
        "n, m = map(int, input().split())\n",
        "com = [ [] for _ in range(n+1)]\n",
        "result = [ 0 for _ in range(n+1)]\n",
        "\n",
        "for i in range(m):\n",
        "  x, y = map(int, input().split())\n",
        "  com[y].append(x)\n",
        "\n",
        "def func(x):\n",
        "  result[j] += 1\n",
        "  for contents in com[x]:\n",
        "    func(contents)\n",
        "\n",
        "\n",
        "for j in range(n+1):\n",
        "  for conn in com[j]:\n",
        "    func(conn)\n",
        "\n",
        "MAX = max(result)\n",
        "result_list = list(filter(lambda x: result[x] == MAX, range(len(result))))\n",
        "\n",
        "for _ in range(len(result_list)):\n",
        "  print(result_list[_], end=\" \")"
      ]
    }
  ]
}
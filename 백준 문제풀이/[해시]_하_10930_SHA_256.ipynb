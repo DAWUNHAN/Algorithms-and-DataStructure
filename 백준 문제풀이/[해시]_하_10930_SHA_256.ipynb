{
  "cells": [
    {
      "cell_type": "markdown",
      "metadata": {
        "id": "DCAXKK8HXpV8"
      },
      "source": [
        "## [백준] 10930 SHA-256\n",
        "\n",
        "- SHA-256은 대표적인 해시 알고리즘 중 하나이다.\n",
        "- 문제 유형: 해시, 구현\n",
        "- 추천 문제 풀이 시간: 15분 \n",
        "- 문제: 문자열 S가 주어졌을 때, SHA-256 해시값을 구하라.\n",
        "- 코딩 테스트 때 인터넷이 연결된 경우 나올 수 있는 문제이다. "
      ]
    },
    {
      "cell_type": "code",
      "execution_count": 1,
      "metadata": {
        "colab": {
          "base_uri": "https://localhost:8080/"
        },
        "id": "jnVY5D3BXpV-",
        "outputId": "1c9c98eb-4ddc-435e-b2be-bdd24067e55a"
      },
      "outputs": [
        {
          "output_type": "stream",
          "name": "stdout",
          "text": [
            "coding\n",
            "9623c1ece5cf9eac8c087030d2c4be5747556cf40920ebfeba1fcc0cc976f123\n"
          ]
        }
      ],
      "source": [
        "import hashlib\n",
        "\n",
        "input_data = input()\n",
        "# 입력받은 데이터의 바이트 객체를 구한다.\n",
        "encoded_data = input_data.encode()\n",
        "# hashlib의 sha256 함수를 사용해서 해쉬 객체를 만든다. \n",
        "# hashdigest => 해시 결과 문자열\n",
        "result = hashlib.sha256(encoded_data).hexdigest()\n",
        "print(result)"
      ]
    }
  ],
  "metadata": {
    "kernelspec": {
      "display_name": "Python 3",
      "language": "python",
      "name": "python3"
    },
    "language_info": {
      "codemirror_mode": {
        "name": "ipython",
        "version": 3
      },
      "file_extension": ".py",
      "mimetype": "text/x-python",
      "name": "python",
      "nbconvert_exporter": "python",
      "pygments_lexer": "ipython3",
      "version": "3.8.5"
    },
    "colab": {
      "name": "[해시] 하 10930 SHA-256.ipynb",
      "provenance": []
    }
  },
  "nbformat": 4,
  "nbformat_minor": 0
}
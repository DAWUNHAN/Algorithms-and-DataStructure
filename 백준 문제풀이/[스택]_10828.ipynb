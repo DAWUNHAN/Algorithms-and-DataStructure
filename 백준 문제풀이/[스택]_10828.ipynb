{
  "nbformat": 4,
  "nbformat_minor": 0,
  "metadata": {
    "colab": {
      "name": "[스택] 10828",
      "provenance": [],
      "authorship_tag": "ABX9TyOSI68mcDFqf4KCPJ2pEjoz",
      "include_colab_link": true
    },
    "kernelspec": {
      "name": "python3",
      "display_name": "Python 3"
    },
    "language_info": {
      "name": "python"
    }
  },
  "cells": [
    {
      "cell_type": "markdown",
      "metadata": {
        "id": "view-in-github",
        "colab_type": "text"
      },
      "source": [
        "<a href=\"https://colab.research.google.com/github/DAWUNHAN/algorithms-and-dataStructure/blob/master/%EB%B0%B1%EC%A4%80%20%EB%AC%B8%EC%A0%9C%ED%92%80%EC%9D%B4/%5B%EC%8A%A4%ED%83%9D%5D_10828.ipynb\" target=\"_parent\"><img src=\"https://colab.research.google.com/assets/colab-badge.svg\" alt=\"Open In Colab\"/></a>"
      ]
    },
    {
      "cell_type": "code",
      "source": [
        "# 백준 10828\n",
        "# sys.stdin.readlne() 안 쓰고 input()으로 하면 시간 초과가 뜬다. 참고로, colab에서 안 된다.\n",
        "import sys\n",
        "\n",
        "n = int(sys.stdin.readline())             # 단순히 숫자 하나만 한 번 받으므로 input() 써도 무방.\n",
        "ans = list()\n",
        "for i in range(n):                        # 처음 입력된 숫자 만큼 for 문 반복.\n",
        "  command = sys.stdin.readline().split()  # split()을 쓰면 리스트 형식으로 저장. 즉, command[0], command[1] = 'push', '1' 이런식. \n",
        "\n",
        "  if command[0]=='push':                  # push 면 stack에 숫자 넣기.\n",
        "    ans.append(command[1])\n",
        "  \n",
        "  elif command[0] == 'pop':               # pop 일 때, stack 맨 위의 숫자를 출력한 뒤 삭제.\n",
        "    if len(ans) == 0:\n",
        "      print('-1')\n",
        "    else:\n",
        "      print(ans[-1])\n",
        "      del ans[-1]\n",
        "\n",
        "  elif command[0] == 'size':              # 스택의 크기 출력\n",
        "    print(len(ans))\n",
        "\n",
        "  elif command[0] == 'empty':             # 스택이 비어 있으면 1, 아니면 0\n",
        "    if len(ans) == 0:\n",
        "      print('1')\n",
        "    else:\n",
        "      print('0')\n",
        "\n",
        "  elif command[0] == 'top':               # 스택의 맨 위 숫자 출력, 없는 경우에는 -1 출력\n",
        "    if len(ans) == 0:\n",
        "      print('-1')\n",
        "    else:\n",
        "      print(ans[-1])\n"
      ],
      "metadata": {
        "id": "ETB-MsFbp5BB"
      },
      "execution_count": null,
      "outputs": []
    }
  ]
}
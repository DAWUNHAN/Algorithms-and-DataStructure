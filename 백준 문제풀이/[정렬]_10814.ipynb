{
  "nbformat": 4,
  "nbformat_minor": 0,
  "metadata": {
    "colab": {
      "name": "[정렬] 10814.ipynb",
      "provenance": [],
      "authorship_tag": "ABX9TyPHwUL19R+KKFyiUV8w5G+p",
      "include_colab_link": true
    },
    "kernelspec": {
      "name": "python3",
      "display_name": "Python 3"
    },
    "language_info": {
      "name": "python"
    }
  },
  "cells": [
    {
      "cell_type": "markdown",
      "metadata": {
        "id": "view-in-github",
        "colab_type": "text"
      },
      "source": [
        "<a href=\"https://colab.research.google.com/github/DAWUNHAN/algorithms-and-dataStructure/blob/master/%EB%B0%B1%EC%A4%80%20%EB%AC%B8%EC%A0%9C%ED%92%80%EC%9D%B4/%5B%EC%A0%95%EB%A0%AC%5D_10814.ipynb\" target=\"_parent\"><img src=\"https://colab.research.google.com/assets/colab-badge.svg\" alt=\"Open In Colab\"/></a>"
      ]
    },
    {
      "cell_type": "markdown",
      "source": [
        "# 10814\n",
        "- [문제](https://www.acmicpc.net/problem/10814)\n",
        "- 문제 해설 : 첫 번째 줄에 입력된 수 n명 만큼 나이와 이름이 입력될 때, 이를 나이순으로 정렬하되 나이가 같은 경우 먼저 들어온 사람을 먼저 정렬한다. "
      ],
      "metadata": {
        "id": "HFRo7Czcs_Rl"
      }
    },
    {
      "cell_type": "code",
      "source": [
        "n = int(input())\n",
        "people = list()\n",
        "\n",
        "for _ in range(n):\n",
        "    input_data = input().split(' ')\n",
        "    people.append((int(input_data[0]), input_data[1]))\n",
        "\n",
        "people = sorted(people, key=lambda x:x[0])\n",
        "\n",
        "for i in people:\n",
        "  print(i[0], i[1])"
      ],
      "metadata": {
        "colab": {
          "base_uri": "https://localhost:8080/"
        },
        "id": "l90G0gjRtMeg",
        "outputId": "7cf41e20-9235-4d71-b6bc-486be21791dc"
      },
      "execution_count": 17,
      "outputs": [
        {
          "output_type": "stream",
          "name": "stdout",
          "text": [
            "3\n",
            "20 kim\n",
            "10 han\n",
            "15 park\n",
            "10 han\n",
            "15 park\n",
            "20 kim\n"
          ]
        }
      ]
    }
  ]
}
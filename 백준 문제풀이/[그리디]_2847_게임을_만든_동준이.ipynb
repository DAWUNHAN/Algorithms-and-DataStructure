{
  "nbformat": 4,
  "nbformat_minor": 0,
  "metadata": {
    "colab": {
      "name": "[그리디] 2847 게임을 만든 동준이.ipynb",
      "provenance": [],
      "collapsed_sections": [],
      "authorship_tag": "ABX9TyOCDARJh55bEGhjGmm6nwUn",
      "include_colab_link": true
    },
    "kernelspec": {
      "name": "python3",
      "display_name": "Python 3"
    },
    "language_info": {
      "name": "python"
    }
  },
  "cells": [
    {
      "cell_type": "markdown",
      "metadata": {
        "id": "view-in-github",
        "colab_type": "text"
      },
      "source": [
        "<a href=\"https://colab.research.google.com/github/DAWUNHAN/algorithms-and-dataStructure/blob/master/%EB%B0%B1%EC%A4%80%20%EB%AC%B8%EC%A0%9C%ED%92%80%EC%9D%B4/%5B%EA%B7%B8%EB%A6%AC%EB%94%94%5D_2847_%EA%B2%8C%EC%9E%84%EC%9D%84_%EB%A7%8C%EB%93%A0_%EB%8F%99%EC%A4%80%EC%9D%B4.ipynb\" target=\"_parent\"><img src=\"https://colab.research.google.com/assets/colab-badge.svg\" alt=\"Open In Colab\"/></a>"
      ]
    },
    {
      "cell_type": "markdown",
      "source": [
        "# 문제 2847\n",
        "- [백준](https://www.acmicpc.net/problem/2847)\n",
        "- \b게임의 난이도가 쉬운 것에서 높은 것으로 올라가야 한다. 만약, 더 높은 난이도가 앞에 와 있다면 난이도를 최소한으로 낮춰야 하고, 낮춘 난이도들의 합이 결과이다.\n",
        "- `5 5 5 => 3 4 5` 이므로 낮춘 난이도 2+1=3이 답이다.\n",
        "- `5 3 7 5 => 2 3 4 5`이므로 3+3 = 6이 답이다."
      ],
      "metadata": {
        "id": "pdbUSksPYIjK"
      }
    },
    {
      "cell_type": "code",
      "execution_count": 16,
      "metadata": {
        "colab": {
          "base_uri": "https://localhost:8080/"
        },
        "id": "QfReIaOXRQIj",
        "outputId": "72d3f6c2-3e92-4582-ce78-c3913d3eeb06"
      },
      "outputs": [
        {
          "output_type": "stream",
          "name": "stdout",
          "text": [
            "3\n",
            "5\n",
            "5\n",
            "5\n",
            "3\n"
          ]
        }
      ],
      "source": [
        "n = int(input())\n",
        "levels = []\n",
        "result = 0\n",
        "\n",
        "for i in range(n):\n",
        "  levels.append(int(input()))\n",
        "\n",
        "for j in range(n-1, 0, -1):               # 맨 마지막 게임의 난이도를 기준으로 그 앞의 난이도를 낮춘다. \n",
        "  if levels[j-1] >= levels[j]:\n",
        "    temp = levels[j-1] - (levels[j] - 1)\n",
        "    result += temp\n",
        "    levels[j-1] = levels[j] - 1\n",
        "\n",
        "\n",
        "print(result)\n",
        "  "
      ]
    }
  ]
}
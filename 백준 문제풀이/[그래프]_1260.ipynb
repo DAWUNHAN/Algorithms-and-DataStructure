{
  "nbformat": 4,
  "nbformat_minor": 0,
  "metadata": {
    "colab": {
      "name": "[그래프] 1260.ipynb",
      "provenance": [],
      "authorship_tag": "ABX9TyO+km6knk2avVrPWIO+m61M",
      "include_colab_link": true
    },
    "kernelspec": {
      "name": "python3",
      "display_name": "Python 3"
    },
    "language_info": {
      "name": "python"
    }
  },
  "cells": [
    {
      "cell_type": "markdown",
      "metadata": {
        "id": "view-in-github",
        "colab_type": "text"
      },
      "source": [
        "<a href=\"https://colab.research.google.com/github/DAWUNHAN/algorithms-and-dataStructure/blob/master/%EB%B0%B1%EC%A4%80%20%EB%AC%B8%EC%A0%9C%ED%92%80%EC%9D%B4/%5B%EA%B7%B8%EB%9E%98%ED%94%84%5D_1260.ipynb\" target=\"_parent\"><img src=\"https://colab.research.google.com/assets/colab-badge.svg\" alt=\"Open In Colab\"/></a>"
      ]
    },
    {
      "cell_type": "code",
      "execution_count": 21,
      "metadata": {
        "colab": {
          "base_uri": "https://localhost:8080/"
        },
        "id": "qekpvYYaDlzk",
        "outputId": "2abddd2f-768f-4c04-9609-c71073244ad1"
      },
      "outputs": [
        {
          "output_type": "stream",
          "name": "stdout",
          "text": [
            "4 5 1\n",
            "1 2\n",
            "1 3\n",
            "1 4\n",
            "2 4\n",
            "3 4\n",
            "1243\n",
            "1 2 3 4 "
          ]
        }
      ],
      "source": [
        "from collections import deque\n",
        "def dfs(v):\n",
        "  print(v, end=' ')\n",
        "  visited[v] = True\n",
        "  for gr in graph[v]:\n",
        "    if not(visited[gr]):\n",
        "      dfs(gr)\n",
        "\n",
        "def bfs(v):\n",
        "  q = deque([v])\n",
        "  while q:\n",
        "    v= q.popleft()\n",
        "    if not(visited[v]):\n",
        "      visited[v] = True\n",
        "      print(v, end=' ')\n",
        "      for gr in graph[v]:\n",
        "        if not(visited[gr]):\n",
        "          q.append(gr)\n",
        "\n",
        "node, edge, first = map(int, input().split())\n",
        "graph = [[] for _ in range(node+1)]\n",
        "\n",
        "for _ in range(edge):\n",
        "  a, b = map(int, input().split())\n",
        "  graph[a].append(b)\n",
        "  graph[b].append(a)\n",
        "\n",
        "for gr in graph:\n",
        "  gr.sort()\n",
        "\n",
        "\n",
        "\n",
        "visited = [False] * (node+1)\n",
        "dfs(first)\n",
        "print()\n",
        "visited = [False] * (node+1)\n",
        "bfs(first)"
      ]
    },
    {
      "cell_type": "code",
      "source": [
        "graph"
      ],
      "metadata": {
        "colab": {
          "base_uri": "https://localhost:8080/"
        },
        "id": "j9Bq6zGrMNud",
        "outputId": "a3bb3503-9f10-4fa1-d7e0-9d7cfb054ec6"
      },
      "execution_count": 22,
      "outputs": [
        {
          "output_type": "execute_result",
          "data": {
            "text/plain": [
              "[[], [2, 3, 4], [1, 4], [1, 4], [1, 2, 3]]"
            ]
          },
          "metadata": {},
          "execution_count": 22
        }
      ]
    },
    {
      "cell_type": "code",
      "source": [
        "ex = deque([1])\n",
        "ex"
      ],
      "metadata": {
        "colab": {
          "base_uri": "https://localhost:8080/"
        },
        "id": "dPp1WearMOgY",
        "outputId": "992d86b9-c2c6-4df3-c74e-516f2576dda3"
      },
      "execution_count": 23,
      "outputs": [
        {
          "output_type": "execute_result",
          "data": {
            "text/plain": [
              "deque([1])"
            ]
          },
          "metadata": {},
          "execution_count": 23
        }
      ]
    },
    {
      "cell_type": "code",
      "source": [
        ""
      ],
      "metadata": {
        "id": "c3_ihe3uMUKH"
      },
      "execution_count": null,
      "outputs": []
    }
  ]
}
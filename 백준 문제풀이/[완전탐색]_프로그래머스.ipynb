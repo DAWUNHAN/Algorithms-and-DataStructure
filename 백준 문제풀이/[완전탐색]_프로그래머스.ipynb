{
  "nbformat": 4,
  "nbformat_minor": 0,
  "metadata": {
    "colab": {
      "name": "[완전탐색] 프로그래머스.ipynb",
      "provenance": [],
      "authorship_tag": "ABX9TyMzP3/T9J733Urx9epcj+3N",
      "include_colab_link": true
    },
    "kernelspec": {
      "name": "python3",
      "display_name": "Python 3"
    },
    "language_info": {
      "name": "python"
    }
  },
  "cells": [
    {
      "cell_type": "markdown",
      "metadata": {
        "id": "view-in-github",
        "colab_type": "text"
      },
      "source": [
        "<a href=\"https://colab.research.google.com/github/DAWUNHAN/algorithms-and-dataStructure/blob/master/%EB%B0%B1%EC%A4%80%20%EB%AC%B8%EC%A0%9C%ED%92%80%EC%9D%B4/%5B%EC%99%84%EC%A0%84%ED%83%90%EC%83%89%5D_%ED%94%84%EB%A1%9C%EA%B7%B8%EB%9E%98%EB%A8%B8%EC%8A%A4.ipynb\" target=\"_parent\"><img src=\"https://colab.research.google.com/assets/colab-badge.svg\" alt=\"Open In Colab\"/></a>"
      ]
    },
    {
      "cell_type": "code",
      "source": [
        "# 프로그래머스 완전 탐색 - Level 1 (모의고사)\n",
        "\n",
        "def solution(answers):\n",
        "    answer = []\n",
        "    list_1 = [1, 2, 3, 4, 5]\n",
        "    list_2 = [2, 1, 2, 3, 2, 4, 2, 5]\n",
        "    list_3 = [3, 3, 1, 1, 2, 2, 4, 4, 5, 5]\n",
        "    score = [0, 0, 0]\n",
        "    result = []\n",
        "    \n",
        "    for idx, answer in enumerate(answers):\n",
        "        if answer == list_1[idx % len(list_1)]:\n",
        "            score[0] += 1\n",
        "        if answer == list_2[idx % len(list_2)]:\n",
        "            score[1] += 1\n",
        "        if answer == list_3[idx % len(list_3)]:\n",
        "            score[2] += 1\n",
        "            \n",
        "    for idx, s in enumerate(score):\n",
        "        if s == max(score):\n",
        "            result.append(idx+1)\n",
        "    \n",
        "    return result"
      ],
      "metadata": {
        "colab": {
          "base_uri": "https://localhost:8080/"
        },
        "id": "Y4bOiFDUHszZ",
        "outputId": "8adb3aec-0aac-44f8-ab68-b98d90065a3c"
      },
      "execution_count": null,
      "outputs": [
        {
          "output_type": "stream",
          "name": "stdout",
          "text": [
            "0 5\n",
            "0\n",
            "1\n",
            "1 5\n",
            "1\n",
            "2\n",
            "2 5\n",
            "2\n",
            "3\n"
          ]
        }
      ]
    },
    {
      "cell_type": "code",
      "source": [
        "# 프로그래머스 완전 탐색 - Level 2 (소수 찾기)\n",
        "\n",
        "from itertools import permutations\n",
        "\n",
        "def chk_prime(number):\n",
        "    if number == 0 or number == 1:\n",
        "        return False\n",
        "    for i in range(2, number):\n",
        "        if number % i == 0:\n",
        "            return False\n",
        "    return True\n",
        "\n",
        "def solution(numbers):\n",
        "  answer = 0\n",
        "  lists = list()\n",
        "\n",
        "  for i in range(1, len(numbers)+1):\n",
        "    lists += permutations(numbers, i)\n",
        "\n",
        "  for i in range(len(lists)): \n",
        "    lists[i] = int(\"\".join(lists[i]))\n",
        "\n",
        "  for i in list(set(lists)):\n",
        "    if chk_prime(i):\n",
        "      answer += 1\n",
        "\n",
        "  return answer\n",
        "\n",
        "solution(\"117\")"
      ],
      "metadata": {
        "colab": {
          "base_uri": "https://localhost:8080/"
        },
        "id": "yWUSufHxT1Uo",
        "outputId": "9ebb47dc-0462-4731-f4d8-a769ea0e0ccc"
      },
      "execution_count": null,
      "outputs": [
        {
          "output_type": "stream",
          "name": "stdout",
          "text": [
            "4\n"
          ]
        }
      ]
    },
    {
      "cell_type": "code",
      "source": [
        "# 완전 탐색 - 카펫 (lv. 2)\n",
        "\n",
        "def solution(brown, yellow):\n",
        "    answer = []\n",
        "    sum = brown + yellow\n",
        "    for x in range(1, sum+1):\n",
        "      if sum%x == 0:\n",
        "        y = sum//x\n",
        "        if (x==y) or (x>y):\n",
        "          if (x*y)-((x-2)*(y-2)) == brown:\n",
        "            answer.append([x, y])\n",
        "            \n",
        "    return answer\n",
        "\n",
        "print(solution(24, 24))"
      ],
      "metadata": {
        "colab": {
          "base_uri": "https://localhost:8080/"
        },
        "id": "va1ObSFxXr9I",
        "outputId": "72c023fd-2786-427c-c20c-b3c6af78c828"
      },
      "execution_count": 20,
      "outputs": [
        {
          "output_type": "stream",
          "name": "stdout",
          "text": [
            "[[8, 6]]\n"
          ]
        }
      ]
    },
    {
      "cell_type": "code",
      "source": [
        ""
      ],
      "metadata": {
        "id": "Moj-n3TSa_MY"
      },
      "execution_count": null,
      "outputs": []
    }
  ]
}
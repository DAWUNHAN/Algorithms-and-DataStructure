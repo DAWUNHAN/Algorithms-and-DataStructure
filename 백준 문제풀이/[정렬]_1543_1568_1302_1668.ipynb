{
  "nbformat": 4,
  "nbformat_minor": 0,
  "metadata": {
    "colab": {
      "name": "[정렬] 1543_1568_1302_1668.ipynb",
      "provenance": [],
      "collapsed_sections": [],
      "authorship_tag": "ABX9TyPS+5H/JLA2MsifPO8Yb2YC",
      "include_colab_link": true
    },
    "kernelspec": {
      "name": "python3",
      "display_name": "Python 3"
    },
    "language_info": {
      "name": "python"
    }
  },
  "cells": [
    {
      "cell_type": "markdown",
      "metadata": {
        "id": "view-in-github",
        "colab_type": "text"
      },
      "source": [
        "<a href=\"https://colab.research.google.com/github/DAWUNHAN/algorithms-and-dataStructure/blob/master/%EB%B0%B1%EC%A4%80%20%EB%AC%B8%EC%A0%9C%ED%92%80%EC%9D%B4/%5B%EC%A0%95%EB%A0%AC%5D_1543_1568_1302_1668.ipynb\" target=\"_parent\"><img src=\"https://colab.research.google.com/assets/colab-badge.svg\" alt=\"Open In Colab\"/></a>"
      ]
    },
    {
      "cell_type": "code",
      "execution_count": 11,
      "metadata": {
        "colab": {
          "base_uri": "https://localhost:8080/"
        },
        "id": "Jaogfj0QFG-2",
        "outputId": "2a849a56-83c0-451f-c0e8-f786c913c5fc"
      },
      "outputs": [
        {
          "output_type": "stream",
          "name": "stdout",
          "text": [
            "abababaabb\n",
            "ab\n",
            "4\n"
          ]
        }
      ],
      "source": [
        "# 1543\n",
        "\n",
        "docu = input()\n",
        "word = input()\n",
        "result = 0\n",
        "index = 0\n",
        "\n",
        "while len(docu) - index >= len(word):\n",
        "  if docu[index:index + len(word)] == word:\n",
        "    result += 1\n",
        "    index += len(word)\n",
        "  else:\n",
        "    index += 1\n",
        "\n",
        "\n",
        "print(result)"
      ]
    },
    {
      "cell_type": "code",
      "source": [
        "# 1568\n",
        "n = int(input())\n",
        "sum = 0\n",
        "idx = 1\n",
        "result = 0\n",
        "\n",
        "while sum < n:\n",
        "  sum += idx\n",
        "  idx += 1\n",
        "  result += 1\n",
        "\n",
        "  if sum > n:\n",
        "    sum -= idx\n",
        "    idx = 1\n",
        "    result -= 1\n",
        "    \n",
        "  if sum == n:\n",
        "    break\n",
        "\n",
        "print(result)"
      ],
      "metadata": {
        "colab": {
          "base_uri": "https://localhost:8080/"
        },
        "id": "tzbZEeYSKyRU",
        "outputId": "6ed5dc44-788c-4064-f849-8c7c01a51766"
      },
      "execution_count": 13,
      "outputs": [
        {
          "output_type": "stream",
          "name": "stdout",
          "text": [
            "3\n",
            "2\n"
          ]
        }
      ]
    },
    {
      "cell_type": "code",
      "source": [
        "# 1568\n",
        "n = int(input())\n",
        "sum = 0\n",
        "idx = 1\n",
        "\n",
        "while n != 0:\n",
        "  if idx > n:\n",
        "    idx = 1\n",
        "  n -= idx\n",
        "  sum += 1\n",
        "  idx += 1\n",
        "    \n",
        "print(sum)"
      ],
      "metadata": {
        "colab": {
          "base_uri": "https://localhost:8080/"
        },
        "id": "B--99v8nNLGU",
        "outputId": "d596fb2f-3c23-4a7f-bd50-4b0586419812"
      },
      "execution_count": 16,
      "outputs": [
        {
          "output_type": "stream",
          "name": "stdout",
          "text": [
            "14\n",
            "7\n"
          ]
        }
      ]
    },
    {
      "cell_type": "code",
      "source": [
        "# 1302\n",
        "n = int(input())\n",
        "books = dict()\n",
        "result = []\n",
        "\n",
        "for _ in range(n):\n",
        "  book = input()\n",
        "  if book not in books:\n",
        "    books[book] = 1\n",
        "  else:\n",
        "    books[book] += 1\n",
        "\n",
        "max_value = max(books.values())\n",
        "\n",
        "for book, num in books.items():\n",
        "  if num == max_value:\n",
        "    result.append(book)\n",
        "\n",
        "  result.sort()\n",
        "\n",
        "print(result[0])"
      ],
      "metadata": {
        "colab": {
          "base_uri": "https://localhost:8080/"
        },
        "id": "USpWe1krjQzg",
        "outputId": "0c8a7812-6934-4062-8a9a-a0cf1d954e18"
      },
      "execution_count": 47,
      "outputs": [
        {
          "output_type": "stream",
          "name": "stdout",
          "text": [
            "6\n",
            "a\n",
            "a\n",
            "a\n",
            "b\n",
            "b\n",
            "c\n",
            "a\n",
            "a\n",
            "a\n"
          ]
        }
      ]
    },
    {
      "cell_type": "code",
      "source": [
        "# 1668\n",
        "\n",
        "n = int(input())\n",
        "trophy = []\n",
        "left = 1\n",
        "right = 1\n",
        "max_right = 0\n",
        "max_left = 0\n",
        "\n",
        "for _ in range(n):\n",
        "  trophy.append(int(input()))\n",
        "\n",
        "max_left = trophy[0]\n",
        "max_right = trophy[-1]\n",
        "\n",
        "for i in range(1, n):\n",
        "  if max_left < trophy[i]:\n",
        "    left += 1\n",
        "    max_left = trophy[i]\n",
        "\n",
        "for j in range(n-1, 0, -1):\n",
        "  if trophy[j-1] > max_right:\n",
        "    right += 1\n",
        "    max_right = trophy[j-1]\n",
        "\n",
        "print(left)\n",
        "print(right)"
      ],
      "metadata": {
        "colab": {
          "base_uri": "https://localhost:8080/"
        },
        "id": "eWBL1wNgyqgs",
        "outputId": "8cb83d0c-a2cb-4e2b-fffe-e562cf14be2b"
      },
      "execution_count": 64,
      "outputs": [
        {
          "output_type": "stream",
          "name": "stdout",
          "text": [
            "7\n",
            "1\n",
            "4\n",
            "2\n",
            "5\n",
            "3\n",
            "7\n",
            "1\n",
            "4\n",
            "2\n"
          ]
        }
      ]
    },
    {
      "cell_type": "code",
      "source": [
        "# 1236\n",
        "# 행과 열의 개수 입력 받는다\n",
        "n, m = map(int, input().split())\n",
        "array = []\n",
        "\n",
        "# 경비관의 유/무 여부를 입력 받는다. \n",
        "for _ in range(n):\n",
        "    array.append(input())\n",
        "\n",
        "# row, column에 처음 기본 값으로 0을 채워 놓는다. \n",
        "row = [0] * n\n",
        "column = [0] * m\n",
        "\n",
        "for i in range(n):\n",
        "    for j in range(m):\n",
        "        # 'X'가 있다면, 즉 경비관이 있는 경우 값이 1로 업데이트 된다.\n",
        "        if array[i][j] == 'X':\n",
        "            row[i] = 1\n",
        "            column[j] = 1\n",
        "\n",
        "row_count = 0\n",
        "for i in range(n):\n",
        "    # 값이 0이라면, 즉 경비원이 없는 경우 row에 필요한 경비원의 수(row_count)가 업데이트 된다.\n",
        "    if row[i] == 0:\n",
        "        row_count += 1\n",
        "        \n",
        "column_count = 0\n",
        "for j in range(m):\n",
        "    # 값이 0이라면, 즉 경비원이 없는 경우 column에 필요한 경비원의 수(column_count)가 업데이트 된다.\n",
        "    if column[j] == 0:\n",
        "        column_count += 1\n",
        "\n",
        "# 둘 중 큰 값을 출력한다.\n",
        "print(max(row_count, column_count))"
      ],
      "metadata": {
        "colab": {
          "base_uri": "https://localhost:8080/"
        },
        "id": "J9InpvU48L3Z",
        "outputId": "af576e0d-07bb-495b-a493-c0190d533a35"
      },
      "execution_count": 79,
      "outputs": [
        {
          "output_type": "stream",
          "name": "stdout",
          "text": [
            "4 4\n",
            "XX..\n",
            "XX..\n",
            "XX..\n",
            "XX..\n",
            "2\n"
          ]
        }
      ]
    },
    {
      "cell_type": "code",
      "source": [
        ""
      ],
      "metadata": {
        "id": "lAX8LvIlBNoO"
      },
      "execution_count": null,
      "outputs": []
    }
  ]
}
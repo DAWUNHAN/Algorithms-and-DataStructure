{
  "nbformat": 4,
  "nbformat_minor": 0,
  "metadata": {
    "colab": {
      "name": "[수열] 15649_15650_15651_15652.ipynb",
      "provenance": [],
      "authorship_tag": "ABX9TyMUyLomsR0oIBmS0NBhWTVz",
      "include_colab_link": true
    },
    "kernelspec": {
      "name": "python3",
      "display_name": "Python 3"
    },
    "language_info": {
      "name": "python"
    }
  },
  "cells": [
    {
      "cell_type": "markdown",
      "metadata": {
        "id": "view-in-github",
        "colab_type": "text"
      },
      "source": [
        "<a href=\"https://colab.research.google.com/github/DAWUNHAN/algorithms-and-dataStructure/blob/master/%EB%B0%B1%EC%A4%80%20%EB%AC%B8%EC%A0%9C%ED%92%80%EC%9D%B4/%5B%EC%88%98%EC%97%B4%5D_15649_15650_15651_15652.ipynb\" target=\"_parent\"><img src=\"https://colab.research.google.com/assets/colab-badge.svg\" alt=\"Open In Colab\"/></a>"
      ]
    },
    {
      "cell_type": "code",
      "execution_count": null,
      "metadata": {
        "colab": {
          "base_uri": "https://localhost:8080/"
        },
        "id": "0LWNHifEz7YO",
        "outputId": "5d3425c0-42cd-4359-f2a9-6dd743306ca1"
      },
      "outputs": [
        {
          "output_type": "stream",
          "name": "stdout",
          "text": [
            "4 2\n",
            "1 2\n",
            "1 3\n",
            "1 4\n",
            "2 1\n",
            "2 3\n",
            "2 4\n",
            "3 1\n",
            "3 2\n",
            "3 4\n",
            "4 1\n",
            "4 2\n",
            "4 3\n"
          ]
        }
      ],
      "source": [
        "# 15649\n",
        "from itertools import permutations\n",
        "\n",
        "n, m = map(int, input().split())\n",
        "nums = []\n",
        "for _ in range(1, n+1):\n",
        "\n",
        "  nums.append(_)\n",
        "\n",
        "result = list(permutations(nums, m))\n",
        "\n",
        "for i in range(len(result)):\n",
        "  print(*result[i])"
      ]
    },
    {
      "cell_type": "code",
      "source": [
        "# 15650\n",
        "\n",
        "from itertools import combinations\n",
        "\n",
        "n, m = map(int, input().split())\n",
        "nums = []\n",
        "for _ in range(1, n+1):\n",
        "  nums.append(_)\n",
        "\n",
        "result = list(combinations(nums, m))\n",
        "\n",
        "for i in range(len(result)):\n",
        "  print(*result[i])\n"
      ],
      "metadata": {
        "colab": {
          "base_uri": "https://localhost:8080/"
        },
        "id": "NBCUxAw22wwR",
        "outputId": "500de890-21d4-4ad5-89ca-919a45485bd9"
      },
      "execution_count": null,
      "outputs": [
        {
          "output_type": "stream",
          "name": "stdout",
          "text": [
            "4 2\n",
            "1 2\n",
            "1 3\n",
            "1 4\n",
            "2 3\n",
            "2 4\n",
            "3 4\n"
          ]
        }
      ]
    },
    {
      "cell_type": "code",
      "source": [
        "# 15651\n",
        "\n",
        "from itertools import product\n",
        "\n",
        "n, m = map(int, input().split())\n",
        "nums = []\n",
        "for _ in range(1, n+1):\n",
        "  nums.append(_)\n",
        "\n",
        "result = list(product(nums, repeat=m))\n",
        "for i in range(len(result)):\n",
        "  print(*result[i])"
      ],
      "metadata": {
        "colab": {
          "base_uri": "https://localhost:8080/"
        },
        "id": "YrAZkCJD4cmI",
        "outputId": "7071d120-7692-4e9d-9cd9-a7a2a879fe25"
      },
      "execution_count": null,
      "outputs": [
        {
          "output_type": "stream",
          "name": "stdout",
          "text": [
            "4 2\n",
            "1 1\n",
            "1 2\n",
            "1 3\n",
            "1 4\n",
            "2 1\n",
            "2 2\n",
            "2 3\n",
            "2 4\n",
            "3 1\n",
            "3 2\n",
            "3 3\n",
            "3 4\n",
            "4 1\n",
            "4 2\n",
            "4 3\n",
            "4 4\n"
          ]
        }
      ]
    },
    {
      "cell_type": "code",
      "source": [
        "# 15652\n",
        "\n",
        "from itertools import combinations_with_replacement\n",
        "\n",
        "n, m = map(int, input().split())\n",
        "nums = []\n",
        "for _ in range(1, n+1):\n",
        "  nums.append(_)\n",
        "\n",
        "result = list(combinations_with_replacement(nums, m))\n",
        "for i in range(len(result)):\n",
        "  print(*result[i])"
      ],
      "metadata": {
        "colab": {
          "base_uri": "https://localhost:8080/"
        },
        "id": "GOVHSVMS6t7t",
        "outputId": "4ee4b1ae-0a6b-4290-be30-44f458b95ca0"
      },
      "execution_count": null,
      "outputs": [
        {
          "output_type": "stream",
          "name": "stdout",
          "text": [
            "4 2\n",
            "1 1\n",
            "1 2\n",
            "1 3\n",
            "1 4\n",
            "2 2\n",
            "2 3\n",
            "2 4\n",
            "3 3\n",
            "3 4\n",
            "4 4\n"
          ]
        }
      ]
    }
  ]
}
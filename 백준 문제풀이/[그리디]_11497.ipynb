{
  "nbformat": 4,
  "nbformat_minor": 0,
  "metadata": {
    "colab": {
      "name": "[그리디] 11497.ipynb",
      "provenance": [],
      "collapsed_sections": [],
      "authorship_tag": "ABX9TyN/vzl/zUKDbFpJqDRe/hH7",
      "include_colab_link": true
    },
    "kernelspec": {
      "name": "python3",
      "display_name": "Python 3"
    },
    "language_info": {
      "name": "python"
    }
  },
  "cells": [
    {
      "cell_type": "markdown",
      "metadata": {
        "id": "view-in-github",
        "colab_type": "text"
      },
      "source": [
        "<a href=\"https://colab.research.google.com/github/DAWUNHAN/algorithms-and-dataStructure/blob/master/%EB%B0%B1%EC%A4%80%20%EB%AC%B8%EC%A0%9C%ED%92%80%EC%9D%B4/%5B%EA%B7%B8%EB%A6%AC%EB%94%94%5D_11497.ipynb\" target=\"_parent\"><img src=\"https://colab.research.google.com/assets/colab-badge.svg\" alt=\"Open In Colab\"/></a>"
      ]
    },
    {
      "cell_type": "markdown",
      "source": [
        "# 문제\n",
        "- [11497](https://www.acmicpc.net/problem/11497)\n",
        "- 문제 설명 : 통나무 높이 배열을 입력 받는다. 통나무 간의 높이 차 중에서 최대값이 그 통나무 배열에서의 난이도가 된다. 이 난이도의 최소값을 출력하라. "
      ],
      "metadata": {
        "id": "lgsAeuyFGCV5"
      }
    },
    {
      "cell_type": "code",
      "execution_count": 19,
      "metadata": {
        "colab": {
          "base_uri": "https://localhost:8080/"
        },
        "id": "26QFgKpF_BNZ",
        "outputId": "0d689f5b-fb1f-4932-89f9-e59de8b7b68f"
      },
      "outputs": [
        {
          "output_type": "stream",
          "name": "stdout",
          "text": [
            "1\n",
            "7\n",
            "13 10 12 11 10 11 12\n",
            "1\n"
          ]
        }
      ],
      "source": [
        "n = int(input())\n",
        "trees = list()\n",
        "\n",
        "for i in range(n):\n",
        "  num = int(input())\n",
        "  trees = list(map(int, input().split()))\n",
        "  trees.sort()                                      # 입력 받은 통나무들을 정렬한다. \n",
        "  result = 0\n",
        "\n",
        "  for j in range(2, num):                           # 통나무 중에 가장 큰 높이 통나무가 가운데에 있고, 왼쪽으로는 인덱스 1, 3,.. 오른쪽으로는 인덱스 2, 4,..\n",
        "    result = max(result, abs(trees[j]-trees[j-2]))  # 주어질 때 비로소 높이에서 가장 작은 차이가 난다. 그러므로 인덱스 간의 차이가 2칸씩 난다. \n",
        "\n",
        "  print(result)"
      ]
    }
  ]
}
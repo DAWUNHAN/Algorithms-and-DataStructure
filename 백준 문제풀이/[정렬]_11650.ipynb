{
  "nbformat": 4,
  "nbformat_minor": 0,
  "metadata": {
    "colab": {
      "name": "[정렬] 11650.ipynb",
      "provenance": [],
      "authorship_tag": "ABX9TyP9v1lyvrv+COw2pDl8vRPu",
      "include_colab_link": true
    },
    "kernelspec": {
      "name": "python3",
      "display_name": "Python 3"
    },
    "language_info": {
      "name": "python"
    }
  },
  "cells": [
    {
      "cell_type": "markdown",
      "metadata": {
        "id": "view-in-github",
        "colab_type": "text"
      },
      "source": [
        "<a href=\"https://colab.research.google.com/github/DAWUNHAN/algorithms-and-dataStructure/blob/master/%EB%B0%B1%EC%A4%80%20%EB%AC%B8%EC%A0%9C%ED%92%80%EC%9D%B4/%5B%EC%A0%95%EB%A0%AC%5D_11650.ipynb\" target=\"_parent\"><img src=\"https://colab.research.google.com/assets/colab-badge.svg\" alt=\"Open In Colab\"/></a>"
      ]
    },
    {
      "cell_type": "markdown",
      "source": [
        "# 문제 11650\n",
        "- [문제 확인](https://www.acmicpc.net/problem/11650)\n",
        "- 총 n개의 좌표를 입력 받을 때, x, y가 증가하는 순서로 정렬하는 문제이다."
      ],
      "metadata": {
        "id": "qChaZEOr2wMk"
      }
    },
    {
      "cell_type": "code",
      "execution_count": 7,
      "metadata": {
        "colab": {
          "base_uri": "https://localhost:8080/"
        },
        "id": "6908-PPQ2sqj",
        "outputId": "a3a2125b-4f20-4806-fbf9-07613043e208"
      },
      "outputs": [
        {
          "output_type": "stream",
          "name": "stdout",
          "text": [
            "3\n",
            "2 9\n",
            "2 7\n",
            "1 8\n",
            "1 8\n",
            "2 7\n",
            "2 9\n"
          ]
        }
      ],
      "source": [
        "n = int(input())\n",
        "coor = list()\n",
        "\n",
        "for _ in range(n):\n",
        "  input_data = input().split(' ')\n",
        "  coor.append((int(input_data[0]), int(input_data[1])))\n",
        "\n",
        "coor = sorted(coor, key=lambda x:(x[0], x[1]))\n",
        "\n",
        "for i in coor:\n",
        "  print(i[0], i[1])"
      ]
    },
    {
      "cell_type": "code",
      "source": [
        "n = int(input())\n",
        "coor = list()\n",
        "\n",
        "for _ in range(n):\n",
        "  x, y = map(int, input().split(' '))\n",
        "  coor.append((x, y))\n",
        "\n",
        "coor = sorted(coor, key=lambda x:(x[0], x[1]))\n",
        "\n",
        "for i in coor:\n",
        "  print(i[0], i[1])"
      ],
      "metadata": {
        "colab": {
          "base_uri": "https://localhost:8080/"
        },
        "id": "k-uGXzBD27Y_",
        "outputId": "722dd5bb-bc20-42ba-e2a9-620632ec25f4"
      },
      "execution_count": 8,
      "outputs": [
        {
          "output_type": "stream",
          "name": "stdout",
          "text": [
            "3\n",
            "4 2\n",
            "3 8\n",
            "3 5\n",
            "3 5\n",
            "3 8\n",
            "4 2\n"
          ]
        }
      ]
    }
  ]
}
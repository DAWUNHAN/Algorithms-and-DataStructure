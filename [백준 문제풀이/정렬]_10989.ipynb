{
  "nbformat": 4,
  "nbformat_minor": 0,
  "metadata": {
    "colab": {
      "name": "[정렬] 10989.ipynb",
      "provenance": [],
      "authorship_tag": "ABX9TyNbjwKZZxmJyhYgIlYmYnES",
      "include_colab_link": true
    },
    "kernelspec": {
      "name": "python3",
      "display_name": "Python 3"
    },
    "language_info": {
      "name": "python"
    }
  },
  "cells": [
    {
      "cell_type": "markdown",
      "metadata": {
        "id": "view-in-github",
        "colab_type": "text"
      },
      "source": [
        "<a href=\"https://colab.research.google.com/github/DAWUNHAN/algorithms-and-dataStructure/blob/master/%5B%EB%B0%B1%EC%A4%80%20%EB%AC%B8%EC%A0%9C%ED%92%80%EC%9D%B4/%EC%A0%95%EB%A0%AC%5D_10989.ipynb\" target=\"_parent\"><img src=\"https://colab.research.google.com/assets/colab-badge.svg\" alt=\"Open In Colab\"/></a>"
      ]
    },
    {
      "cell_type": "markdown",
      "source": [
        "# 백준 10989\n",
        "- [문제](https://www.acmicpc.net/problem/10989)\n"
      ],
      "metadata": {
        "id": "A77XWq9teL7R"
      }
    },
    {
      "cell_type": "code",
      "source": [
        "# 정답\n",
        "import sys\n",
        "\n",
        "n = int(input())\n",
        "nums = [0] * 10001\n",
        "\n",
        "for i in range(n):\n",
        "  data = int(sys.stdin.readline())\n",
        "  nums[data] += 1\n",
        "\n",
        "for i in range(10001):\n",
        "  if nums[i] != 0:\n",
        "    for j in range(nums[i]):\n",
        "      print(i)\n"
      ],
      "metadata": {
        "colab": {
          "base_uri": "https://localhost:8080/"
        },
        "id": "MJqS44eDfZof",
        "outputId": "89159b59-77b9-4935-901e-69a2a6db3062"
      },
      "execution_count": 4,
      "outputs": [
        {
          "output_type": "stream",
          "name": "stdout",
          "text": [
            "5\n",
            "4\n",
            "4\n",
            "2\n",
            "6\n",
            "4\n",
            "2\n",
            "4\n",
            "4\n",
            "4\n",
            "6\n"
          ]
        }
      ]
    },
    {
      "cell_type": "code",
      "execution_count": 2,
      "metadata": {
        "colab": {
          "base_uri": "https://localhost:8080/"
        },
        "id": "yx4XJRxGeI7a",
        "outputId": "efe49bc8-f9d8-4d28-ba3b-c518f00a3a0d"
      },
      "outputs": [
        {
          "output_type": "stream",
          "name": "stdout",
          "text": [
            "5\n",
            "3\n",
            "9\n",
            "8\n",
            "2\n",
            "5\n",
            "[2, 3, 5, 8, 9]\n"
          ]
        }
      ],
      "source": [
        "# 메모리 초과\n",
        "import sys\n",
        "n = int(input())\n",
        "nums = list()\n",
        "\n",
        "for _ in range(n):\n",
        "  nums.append(int(sys.stdin.readline()))\n",
        "\n",
        "for i in range(len(nums)):\n",
        "  for j in range(i+1, len(nums)):\n",
        "    if nums[i] > nums[j]:\n",
        "      nums[i], nums[j] = nums[j], nums[i]\n",
        "\n",
        "for _ in range(len(nums)):\n",
        "  print(nums[_])\n"
      ]
    },
    {
      "cell_type": "code",
      "source": [
        "# 메모리 초과\n",
        "import sys\n",
        "n = int(input())\n",
        "nums = list()\n",
        "\n",
        "for _ in range(n):\n",
        "  nums.append(int(sys.stdin.readline()))\n",
        "\n",
        "nums = sorted(nums)\n",
        "\n",
        "for _ in range(len(nums)):\n",
        "  print(nums[_])\n"
      ],
      "metadata": {
        "colab": {
          "base_uri": "https://localhost:8080/"
        },
        "id": "3ns70sSEeQao",
        "outputId": "f6ebeaa6-24e1-4a81-ba3b-1081382f0810"
      },
      "execution_count": 3,
      "outputs": [
        {
          "output_type": "stream",
          "name": "stdout",
          "text": [
            "5\n",
            "8\n",
            "3\n",
            "4\n",
            "1\n",
            "9\n",
            "1\n",
            "3\n",
            "4\n",
            "8\n",
            "9\n"
          ]
        }
      ]
    }
  ]
}
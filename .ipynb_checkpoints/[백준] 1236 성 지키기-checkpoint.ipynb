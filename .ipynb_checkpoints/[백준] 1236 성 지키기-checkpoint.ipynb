{
 "cells": [
  {
   "cell_type": "markdown",
   "metadata": {},
   "source": [
    "- 모든 행과 열에 한 명 이상의 경비원이 있어야 한다.\n",
    "- 행과 열 각 기준으로 필요한 경비원 수 구하고, 그 중 큰 수를 출력한다.\n",
    "- 입력: 첫 번째 줄에는 행과 열의 수\n",
    "       그 이후부터 '.'은 빈칸, 'X'는 경비원"
   ]
  },
  {
   "cell_type": "code",
   "execution_count": 2,
   "metadata": {},
   "outputs": [
    {
     "name": "stdout",
     "output_type": "stream",
     "text": [
      "4 3\n",
      "...\n",
      "..X\n",
      "X..\n",
      "....\n",
      "2\n"
     ]
    }
   ],
   "source": [
    "# 행과 열의 개수 입력 받는다\n",
    "n, m = map(int, input().split())\n",
    "array = []\n",
    "\n",
    "# 경비관의 유/무 여부를 입력 받는다. \n",
    "for _ in range(n):\n",
    "    array.append(input())\n",
    "\n",
    "# row, column에 처음 기본 값으로 0을 채워 놓는다. \n",
    "row = [0] * n\n",
    "column = [0] * m\n",
    "\n",
    "for i in range(n):\n",
    "    for j in range(m):\n",
    "        # 'X'가 있다면, 즉 경비관이 있는 경우 값이 1로 업데이트 된다.\n",
    "        if array[i][j] == 'X':\n",
    "            row[i] = 1\n",
    "            column[j] = 1\n",
    "            \n",
    "row_count = 0\n",
    "for i in range(n):\n",
    "    # 값이 0이라면, 즉 경비원이 없는 경우 row에 필요한 경비원의 수(row_count)가 업데이트 된다.\n",
    "    if row[i] == 0:\n",
    "        row_count += 1\n",
    "        \n",
    "column_count = 0\n",
    "for j in range(m):\n",
    "    # 값이 0이라면, 즉 경비원이 없는 경우 column에 필요한 경비원의 수(column_count)가 업데이트 된다.\n",
    "    if column[j] == 0:\n",
    "        column_count += 1\n",
    "\n",
    "# 둘 중 큰 값을 출력한다.\n",
    "print(max(row_count, column_count))"
   ]
  }
 ],
 "metadata": {
  "kernelspec": {
   "display_name": "Python 3",
   "language": "python",
   "name": "python3"
  },
  "language_info": {
   "codemirror_mode": {
    "name": "ipython",
    "version": 3
   },
   "file_extension": ".py",
   "mimetype": "text/x-python",
   "name": "python",
   "nbconvert_exporter": "python",
   "pygments_lexer": "ipython3",
   "version": "3.8.5"
  },
  "toc": {
   "base_numbering": 1,
   "nav_menu": {},
   "number_sections": true,
   "sideBar": true,
   "skip_h1_title": false,
   "title_cell": "Table of Contents",
   "title_sidebar": "Contents",
   "toc_cell": false,
   "toc_position": {},
   "toc_section_display": true,
   "toc_window_display": false
  }
 },
 "nbformat": 4,
 "nbformat_minor": 4
}

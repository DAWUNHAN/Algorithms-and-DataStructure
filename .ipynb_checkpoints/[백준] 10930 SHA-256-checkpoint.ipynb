{
 "cells": [
  {
   "cell_type": "markdown",
   "metadata": {},
   "source": [
    "## [백준] 10930 SHA-256\n",
    "\n",
    "- SHA-256은 대표적인 해시 알고리즘 중 하나이다.\n",
    "- 문제 유형: 해시, 구현\n",
    "- 추천 문제 풀이 시간: 15분 \n",
    "- 문제: 문자열 S가 주어졌을 때, SHA-256 해시값을 구하라."
   ]
  },
  {
   "cell_type": "code",
   "execution_count": 1,
   "metadata": {},
   "outputs": [
    {
     "name": "stdout",
     "output_type": "stream",
     "text": [
      "Baekjoon\n",
      "9944e1862efbb2a4e2486392dc6701896416b251eccdecb8332deb7f4cf2a857\n"
     ]
    }
   ],
   "source": [
    "import hashlib\n",
    "\n",
    "input_data = input()\n",
    "# 입력받은 데이터의 바이트 객체를 구한다.\n",
    "encoded_data = input_data.encode()\n",
    "# hashlib의 sha256 함수를 사용해서 해쉬 객체를 만든다. \n",
    "result = hashlib.sha256(encoded_data).hexdigest()\n",
    "print(result)"
   ]
  }
 ],
 "metadata": {
  "kernelspec": {
   "display_name": "Python 3",
   "language": "python",
   "name": "python3"
  },
  "language_info": {
   "codemirror_mode": {
    "name": "ipython",
    "version": 3
   },
   "file_extension": ".py",
   "mimetype": "text/x-python",
   "name": "python",
   "nbconvert_exporter": "python",
   "pygments_lexer": "ipython3",
   "version": "3.8.5"
  }
 },
 "nbformat": 4,
 "nbformat_minor": 4
}

{
 "cells": [
  {
   "cell_type": "markdown",
   "metadata": {},
   "source": [
    "- 큐는 가장 먼저 넣은 데이터를 가장 먼저 꺼낼 수 있는 데이터 구조이다.\n",
    "- FIFO 또는 LILO 정책.\n",
    "- 즉, 스택 과는 반대이다.\n",
    "- Enqueue : 데이터 넣기\n",
    "- Dequeue : 데이터 빼기"
   ]
  },
  {
   "cell_type": "code",
   "execution_count": 1,
   "metadata": {},
   "outputs": [
    {
     "data": {
      "text/plain": [
       "'Good day'"
      ]
     },
     "execution_count": 1,
     "metadata": {},
     "output_type": "execute_result"
    }
   ],
   "source": [
    "import queue \n",
    "data_queue = queue.Queue()\n",
    "\n",
    "#데이터 입력\n",
    "data_queue.put(\"Good day\")\n",
    "data_queue.put(1)\n",
    "\n",
    "#큐 크기 출력\n",
    "data_queue.qsize() \n",
    "\n",
    "#큐에 입력된 데이터 출력\n",
    "data_queue.get()"
   ]
  },
  {
   "cell_type": "code",
   "execution_count": null,
   "metadata": {},
   "outputs": [],
   "source": []
  }
 ],
 "metadata": {
  "kernelspec": {
   "display_name": "Python 3",
   "language": "python",
   "name": "python3"
  },
  "language_info": {
   "codemirror_mode": {
    "name": "ipython",
    "version": 3
   },
   "file_extension": ".py",
   "mimetype": "text/x-python",
   "name": "python",
   "nbconvert_exporter": "python",
   "pygments_lexer": "ipython3",
   "version": "3.8.5"
  }
 },
 "nbformat": 4,
 "nbformat_minor": 4
}

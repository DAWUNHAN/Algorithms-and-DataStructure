{
 "cells": [
  {
   "cell_type": "markdown",
   "metadata": {},
   "source": [
    "## 문제 해설\n",
    "\n",
    "- 나이 순으로 정렬 하기\n",
    "- 첫 번째 입력 값은 몇 명의 사람이 입력되는지 보여 준다.\n",
    "- 나이가 같을 때는 입력이 먼저 된 사람부터 보여 준다."
   ]
  },
  {
   "cell_type": "code",
   "execution_count": 5,
   "metadata": {},
   "outputs": [
    {
     "name": "stdout",
     "output_type": "stream",
     "text": [
      "2\n",
      "30 kim\n",
      "10 han\n",
      "10 han\n",
      "30 kim\n",
      "[('10', 'han'), ('30', 'kim')]\n"
     ]
    }
   ],
   "source": [
    "n = int(input())\n",
    "array = []\n",
    "\n",
    "for _ in range(n):\n",
    "    input_data = input().split(' ')\n",
    "    array.append((input_data[0], input_data[1]))\n",
    "    \n",
    "array = sorted(array, key=lambda x:x[0])\n",
    "\n",
    "for i in array:\n",
    "    print(i[0], i[1])\n",
    "\n",
    "print(array)"
   ]
  },
  {
   "cell_type": "code",
   "execution_count": null,
   "metadata": {},
   "outputs": [],
   "source": []
  }
 ],
 "metadata": {
  "kernelspec": {
   "display_name": "Python 3",
   "language": "python",
   "name": "python3"
  },
  "language_info": {
   "codemirror_mode": {
    "name": "ipython",
    "version": 3
   },
   "file_extension": ".py",
   "mimetype": "text/x-python",
   "name": "python",
   "nbconvert_exporter": "python",
   "pygments_lexer": "ipython3",
   "version": "3.8.5"
  }
 },
 "nbformat": 4,
 "nbformat_minor": 4
}

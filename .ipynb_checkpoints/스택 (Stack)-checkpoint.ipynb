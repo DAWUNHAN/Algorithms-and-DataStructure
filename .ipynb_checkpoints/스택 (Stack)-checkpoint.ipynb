{
 "cells": [
  {
   "cell_type": "markdown",
   "metadata": {},
   "source": [
    "## 스택이란?\n",
    "\n",
    "나중에 들어간 데이터를 가장 먼저 출력하는 구조이다. 쉽게 설명하자면, 뷔페에서 쌓아둔 접시들을 예시로 들 수 있다. 층층이 쌓인 접시들 중에서 가장 마지막으로 쌓은 접시를 손님들은 가장 먼저 가져간다. 스택에 무언가를 삽입하고자 했는데 이 스택이 이미 꽉 찬 상태여서 나타나는 에러를 Stack Buffer Overflow 스택 버퍼 오버플로우라고 한다. 개발자들의 빛과 희망과 같은 스택 오버플로우 웹사이트 이름도 여기에서 유래했다! 깔깔깔.\n",
    "\n",
    "- 컴퓨터 내부의 프로세스 구조의 함수 동작 방식\n",
    "- 파이썬에서는 스택 자료형을 따로 지원하지는 않지만, 리스트로 만들 수 있다. \n",
    "- 스택 : LIFO , FILO\n",
    "    - LIFO (Last-In-First-Out) : 나중에 들어간 것이 먼저 나온다.\n",
    "    - FIFO (First-In-First-Out) : 처음 들어간 것이 처음 나온다. \n",
    "- 큐 : FIFO\n",
    "- push() : 데이터 입력, pop() : 데이터 출력\n",
    "- 장점 : 구조가 단순해서 구현이 쉽다. 데이터 저장/읽기 속도가 빠르다.\n",
    "- 단점 : 데이터 최대 갯수를 미리 정해야 한다 (파이썬 재귀 함수는 최대 1000번까지 호출 가능). 저장 공간의 낭비가 발생 가능해서 비효율적일 수 있다. "
   ]
  },
  {
   "cell_type": "markdown",
   "metadata": {},
   "source": [
    "## 재귀함수 구현하기"
   ]
  },
  {
   "cell_type": "code",
   "execution_count": 2,
   "metadata": {},
   "outputs": [],
   "source": [
    "def recursive(data):\n",
    "    if data < 0:\n",
    "        print(\"End\")\n",
    "    else:\n",
    "        print(data)\n",
    "        recursive(data-1)\n",
    "        print(\"Returned\", data)\n",
    "        "
   ]
  },
  {
   "cell_type": "code",
   "execution_count": 3,
   "metadata": {},
   "outputs": [
    {
     "name": "stdout",
     "output_type": "stream",
     "text": [
      "4\n",
      "3\n",
      "2\n",
      "1\n",
      "0\n",
      "End\n",
      "Returned 0\n",
      "Returned 1\n",
      "Returned 2\n",
      "Returned 3\n",
      "Returned 4\n"
     ]
    }
   ],
   "source": [
    "recursive(4)"
   ]
  }
 ],
 "metadata": {
  "kernelspec": {
   "display_name": "Python 3",
   "language": "python",
   "name": "python3"
  },
  "language_info": {
   "codemirror_mode": {
    "name": "ipython",
    "version": 3
   },
   "file_extension": ".py",
   "mimetype": "text/x-python",
   "name": "python",
   "nbconvert_exporter": "python",
   "pygments_lexer": "ipython3",
   "version": "3.8.5"
  },
  "toc": {
   "base_numbering": 1,
   "nav_menu": {},
   "number_sections": true,
   "sideBar": true,
   "skip_h1_title": false,
   "title_cell": "Table of Contents",
   "title_sidebar": "Contents",
   "toc_cell": false,
   "toc_position": {},
   "toc_section_display": true,
   "toc_window_display": false
  }
 },
 "nbformat": 4,
 "nbformat_minor": 4
}

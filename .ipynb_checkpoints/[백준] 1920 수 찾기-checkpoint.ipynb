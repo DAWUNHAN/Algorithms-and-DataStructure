{
 "cells": [
  {
   "cell_type": "markdown",
   "metadata": {},
   "source": [
    "## [백준] 1920 수 찾기\n",
    "\n",
    "- 문제: 주어진 정수 안에 찾는 정수가 존재 하는가?\n",
    "- 힌트: set 자료형은 중복이 허용되지 않는 집합이다. \n",
    "- 리스트 []\n",
    "- 튜플 () 값을 바꿀 수 없다.\n",
    "- 딕셔너리 {key1:value1, key2:value2,..}\n",
    "- 집합 set {} 중복값이 없다."
   ]
  },
  {
   "cell_type": "code",
   "execution_count": 4,
   "metadata": {},
   "outputs": [
    {
     "name": "stdout",
     "output_type": "stream",
     "text": [
      "4\n",
      "1 2 3 4\n",
      "4\n",
      "4 2 8 9\n",
      "1\n",
      "1\n",
      "0\n",
      "0\n"
     ]
    }
   ],
   "source": [
    "n = int(input())\n",
    "array = set(map(int, input().split()))\n",
    "m = int(input())\n",
    "x = list(map(int, input().split()))\n",
    "\n",
    "for i in x:\n",
    "    if i not in array:\n",
    "        print('0')\n",
    "    else:\n",
    "        print('1')"
   ]
  }
 ],
 "metadata": {
  "kernelspec": {
   "display_name": "Python 3",
   "language": "python",
   "name": "python3"
  },
  "language_info": {
   "codemirror_mode": {
    "name": "ipython",
    "version": 3
   },
   "file_extension": ".py",
   "mimetype": "text/x-python",
   "name": "python",
   "nbconvert_exporter": "python",
   "pygments_lexer": "ipython3",
   "version": "3.8.5"
  }
 },
 "nbformat": 4,
 "nbformat_minor": 4
}
